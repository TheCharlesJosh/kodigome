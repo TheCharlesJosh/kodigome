{
 "cells": [
  {
   "cell_type": "markdown",
   "metadata": {},
   "source": [
    "# Extracting the Candidates from the Markdown files\n",
    "\n",
    "The next step is to get the candidates from the Markdown files. The assumption is that PymuPDF4LLM has extracted all candidates properly in Markdown tables. With this, we will remove all non-Markdown table data and process them based on header-matching, and sort them by the order."
   ]
  },
  {
   "cell_type": "code",
   "execution_count": 1,
   "metadata": {},
   "outputs": [],
   "source": [
    "import fs from \"node:fs\"\n",
    "import path from \"node:path\""
   ]
  },
  {
   "cell_type": "code",
   "execution_count": 2,
   "metadata": {},
   "outputs": [],
   "source": [
    "let data = fs.readFileSync('./OV.md', 'utf8');"
   ]
  },
  {
   "cell_type": "code",
   "execution_count": 3,
   "metadata": {},
   "outputs": [],
   "source": [
    "function sortCandidate (a: string, b: string) {\n",
    "  const firstNumber = Number(a.match(/^(\\d+)\\.?/)[1])\n",
    "  const secondNumber = Number(b.match(/^(\\d+)\\.?/)[1])\n",
    "  return firstNumber - secondNumber\n",
    "}"
   ]
  },
  {
   "cell_type": "code",
   "execution_count": 4,
   "metadata": {},
   "outputs": [],
   "source": [
    "function extractCandidates (data: string) {\n",
    "  let list = {}\n",
    "  let currentPosition = \"\"\n",
    "  \n",
    "  // Go through the file line-by line\n",
    "  \n",
    "  for (const line of data.split('\\n')) {\n",
    "    // const line = (data as string).split('\\n')[91]\n",
    "    const tableMatcherRegex = /\\|((\\\\\\|)|[^\\r\\n\\|])+/g                   // Capture cells starting with the pipe character, except if the pipe character is escaped\n",
    "    let row = line.match(tableMatcherRegex)\n",
    "    \n",
    "    if (!row || row.length === 0) continue                               // If there are no matches, this is not a table, skip the line\n",
    "    \n",
    "    row = row\n",
    "    .map(match => match.replace(/^\\|/, \"\").trim())                     // Remove the starting pipe character, and remove extra whitespaces\n",
    "    .filter(match => match)                                            // And remove empty strings\n",
    "    \n",
    "    if (row[0].replaceAll('-', '') === '') continue                      // If the first cell is a header separator (multiple dashes), skip the line\n",
    "    \n",
    "    const isHeader = /^[^\\d].*Vote for (\\d+)/.exec(row[0])               // If the first cell does not start with a number, it's probably a header\n",
    "    \n",
    "    if (isHeader) {\n",
    "      const position = row[0].split(\"/\")[0].trim()                       // Get the position\n",
    "      const voteFor = Number(isHeader[1])                                        // Count the \"vote for\"\n",
    "      \n",
    "      if (currentPosition !== position) {                                // If the position is different from the current position being worked on,\n",
    "        currentPosition = position\n",
    "        list[position] = {                                               // Write a blank position property\n",
    "          candidates: [],\n",
    "          header: row[0],\n",
    "          voteFor\n",
    "        }\n",
    "      }\n",
    "      continue                                                            // And skip the rest\n",
    "    } else {                                                              // Else, append the candidates to the row.\n",
    "      list[currentPosition].candidates =\n",
    "      list[currentPosition].candidates.concat(row)\n",
    "    }\n",
    "  }\n",
    "  \n",
    "  // When the list is complete, sort and count the candidates\n",
    "  \n",
    "  for (const position of Object.keys(list)) {\n",
    "    list[position].candidates = list[position].candidates.sort(sortCandidate)\n",
    "    list[position].count = list[position].candidates.length\n",
    "  }\n",
    "\n",
    "  return list\n",
    "}\n"
   ]
  },
  {
   "cell_type": "code",
   "execution_count": 5,
   "metadata": {},
   "outputs": [
    {
     "data": {
      "text/json": [
       "{\n",
       "  \"SENATOR\": {\n",
       "    \"candidates\": [\n",
       "      \"1. ABALOS, BENHUR (PFP)\",\n",
       "      \"2. ADONIS, JEROME (MKBYN)\",\n",
       "      \"3. AMAD, WILSON (IND)\",\n",
       "      \"4. ANDAMO, NARS ALYN (MKBYN)\",\n",
       "      \"5. AQUINO, BAM (KNP)\",\n",
       "      \"6. ARAMBULO, RONNEL (MKBYN)\",\n",
       "      \"7. ARELLANO, ERNESTO (KTPNAN)\",\n",
       "      \"8. BALLON, ROBERTO (IND)\",\n",
       "      \"9. BINAY, ABBY (NPC)\",\n",
       "      \"10. BONDOC, JIMMY (PDPLBN)\",\n",
       "      \"11. BONG REVILLA,RAMON, JR.(LAKAS)\",\n",
       "      \"12. BOSITA, COLONEL (IND)\",\n",
       "      \"13. BROSAS, ARLENE (MKBYN)\",\n",
       "      \"14. CABONEGRO, ROY (DPP)\",\n",
       "      \"15. CAPUYAN, ALLEN (PPP)\",\n",
       "      \"16. CASIÑO, TEDDY (MKBYN)\",\n",
       "      \"17. CASTRO, TEACHER FRANCE (MKBYN)\",\n",
       "      \"18. CAYETANO, PIA (NP)\",\n",
       "      \"19. D'ANGELO, DAVID (BUNYOG)\",\n",
       "      \"20. DE ALBAN,ATTORNEY ANGELO (IND)\",\n",
       "      \"21. DE GUZMAN, KA LEODY (PLM)\",\n",
       "      \"22. DELA ROSA, BATO (PDPLBN)\",\n",
       "      \"23. DORINGO, NANAY MIMI (MKBYN)\",\n",
       "      \"24. ESCOBAL, ARNEL (PM)\",\n",
       "      \"25. ESPIRITU, LUKE (PLM)\",\n",
       "      \"26. FLORANDA, MODY PISTON (MKBYN)\",\n",
       "      \"27. GAMBOA, MARC LOUIE (IND)\",\n",
       "      \"28. GO, BONG GO (PDPLBN)\",\n",
       "      \"29. GONZALES, NORBERTO (PDSP)\",\n",
       "      \"30. HINLO, JAYVEE (PDPLBN)\",\n",
       "      \"31. HONASAN, GRINGO (RP)\",\n",
       "      \"32. JOSE, RELLY JR. (KBL)\",\n",
       "      \"33. LACSON, PING (IND)\",\n",
       "      \"34. LAMBINO, RAUL (PDPLBN)\",\n",
       "      \"35. LAPID, LITO (NPC)\",\n",
       "      \"36. LEE, MANOY WILBERT (AKSYON)\",\n",
       "      \"37. LIDASAN, AMIRAH (MKBYN)\",\n",
       "      \"38. MARCOLETA, RODANTE (IND)\",\n",
       "      \"39. MARCOS, IMEE R. (NP)\",\n",
       "      \"40. MARQUEZ, NORMAN (IND)\",\n",
       "      \"41. MARTINEZ, ERIC (IND)\",\n",
       "      \"42. MATA, DOC MARITES (IND)\",\n",
       "      \"43. MATULA, ATTY. SONNY (WPP)\",\n",
       "      \"44. MAZA, LIZA (MKBYN)\",\n",
       "      \"45. MENDOZA, HEIDI (IND)\",\n",
       "      \"46. MONTEMAYOR, JOEY (IND)\",\n",
       "      \"47. OLIVAR, JOSE JESSIE (IND)\",\n",
       "      \"48. ONG, DOC WILLIE (AKSYON)\",\n",
       "      \"49. PACQUIAO, MANNY PACMAN (PFP)\",\n",
       "      \"50. PANGILINAN, KIKO (LP)\",\n",
       "      \"51. QUERUBIN, ARIEL PORFIRIO (NP)\",\n",
       "      \"52. QUIBOLOY, APOLLO (IND)\",\n",
       "      \"53. RAMOS, DANILO (MKBYN)\",\n",
       "      \"54. REVILLAME, WILLIE WIL (IND)\",\n",
       "      \"55. RODRIGUEZ, ATTY. VIC (IND)\",\n",
       "      \"56. SAHIDULLA, NUR-ANA (IND)\",\n",
       "      \"57. SALVADOR, PHILLIP IPE (PDPLBN)\",\n",
       "      \"58. SINGSON, MANONG CHAVIT (IND)\",\n",
       "      \"59. SOTTO, TITO (NPC)\",\n",
       "      \"60. TAPADO, MICHAEL BONGBONG (PM)\",\n",
       "      \"61. TOLENTINO, FRANCIS TOL (PFP)\",\n",
       "      \"62. TULFO, BEN BITAG (IND)\",\n",
       "      \"63. TULFO, ERWIN (LAKAS)\",\n",
       "      \"64. VALBUENA, MAR MANIBELA (IND)\",\n",
       "      \"65. VERCELES, LEANDRO (IND)\",\n",
       "      \"66. VILLAR, CAMILLE (NP)\"\n",
       "    ],\n",
       "    \"header\": \"SENATOR / Vote for 12 (Bumoto ng hindi hihigit sa 12)\",\n",
       "    \"voteFor\": 12,\n",
       "    \"count\": 66\n",
       "  },\n",
       "  \"PARTY LIST\": {\n",
       "    \"candidates\": [\n",
       "      \"1 4PS\",\n",
       "      \"2 PPP\",\n",
       "      \"3 FPJ PANDAY BAYANIHAN\",\n",
       "      \"4 KABATAAN\",\n",
       "      \"5 DUTERTE YOUTH\",\n",
       "      \"6 ML\",\n",
       "      \"7 PBBM\",\n",
       "      \"8 P3PWD\",\n",
       "      \"9 MURANG KURYENTE\",\n",
       "      \"10 BICOL SARO\",\n",
       "      \"11 IPATUPAD\",\n",
       "      \"12 PATROL\",\n",
       "      \"13 JUAN PINOY\",\n",
       "      \"14 ARTE\",\n",
       "      \"15 WIFI\",\n",
       "      \"16 MAAGAP\",\n",
       "      \"17 UNITED SENIOR CITIZENS\",\n",
       "      \"18 EPANAW SAMBAYANAN\",\n",
       "      \"19 AKO PADAYON\",\n",
       "      \"20 TUCP\",\n",
       "      \"21 ACT TEACHERS\",\n",
       "      \"22 1PACMAN\",\n",
       "      \"23 TGP\",\n",
       "      \"24 DUMPER PTDA\",\n",
       "      \"25 ANAKALUSUGAN\",\n",
       "      \"26 AKSYON DAPAT\",\n",
       "      \"27 BHW\",\n",
       "      \"28 SULONG DIGNIDAD\",\n",
       "      \"29 BATANG QUIAPO\",\n",
       "      \"30 PBA\",\n",
       "      \"31 GILAS\",\n",
       "      \"32 AKO ILOCANO AKO\",\n",
       "      \"33 PAMILYANG MAGSASAKA\",\n",
       "      \"34 CLICK PARTY\",\n",
       "      \"35 ABANTE BISDAK\",\n",
       "      \"36 MANILA TEACHERS\",\n",
       "      \"37 PAMANA\",\n",
       "      \"38 NANAY\",\n",
       "      \"39 KM NGAYON NA\",\n",
       "      \"40 BABAE AKO\",\n",
       "      \"41 ARISE\",\n",
       "      \"42 MAGDALO\",\n",
       "      \"43 APEC\",\n",
       "      \"44 MAGBUBUKID\",\n",
       "      \"45 SSS-GSIS PENSYONADO\",\n",
       "      \"46 GABRIELA\",\n",
       "      \"47 TINGOG\",\n",
       "      \"48 APAT-DAPAT\",\n",
       "      \"49 AHON MAHIRAP\",\n",
       "      \"50 UGB\",\n",
       "      \"51 AKBAYAN\",\n",
       "      \"52 AGIMAT\",\n",
       "      \"53 PHILRECA\",\n",
       "      \"54 KAPUSO PM\",\n",
       "      \"55 ILOCANO DEFENDERS\",\n",
       "      \"56 1-RIDER PARTY-LIST\",\n",
       "      \"57 TICTOK\",\n",
       "      \"59 BAYAN MUNA\",\n",
       "      \"60 ANG PROBINSIYANO\",\n",
       "      \"61 BANAT\",\n",
       "      \"62 SBP\",\n",
       "      \"63 BUHAY\",\n",
       "      \"64 TULUNGAN TAYO\",\n",
       "      \"65 SAGIP\",\n",
       "      \"66 BTS BAYANING TSUPER\",\n",
       "      \"67 VENDORS\",\n",
       "      \"68 ACT-CIS\",\n",
       "      \"69 AKTIBONG KAAGAPAY\",\n",
       "      \"70 ASENSO PINOY\",\n",
       "      \"71 SOLO PARENTS\",\n",
       "      \"72 ANG KOMADRONA\",\n",
       "      \"73 PROMDI\",\n",
       "      \"74 PUSONG PINOY\",\n",
       "      \"75 KUSUG TAUSUG\",\n",
       "      \"76 DAMAYANG FILIPINO\",\n",
       "      \"77 MPBL\",\n",
       "      \"78 ANGAT\",\n",
       "      \"79 KALINGA\",\n",
       "      \"80 BOSES PARTY-LIST\",\n",
       "      \"81 ARANGKADA PILIPINO\",\n",
       "      \"82 AANGAT TAYO\",\n",
       "      \"83 OFW\",\n",
       "      \"84 BIDA KATAGUMPAY\",\n",
       "      \"85 KAMANGGAGAWA\",\n",
       "      \"86 BFF\",\n",
       "      \"87 BUNYOG\",\n",
       "      \"88 AGRI\",\n",
       "      \"89 SENIOR CITIZENS\",\n",
       "      \"90 4K\",\n",
       "      \"91 PBP\",\n",
       "      \"92 ONE COOP\",\n",
       "      \"93 CIBAC\",\n",
       "      \"94 BH - BAGONG HENERASYON\",\n",
       "      \"95 1AGILA\",\n",
       "      \"96 EDUAKSYON\",\n",
       "      \"97 ANG TINIG NG SENIORS\",\n",
       "      \"98 BG PARTY-LIST\",\n",
       "      \"99 PINOY AKO\",\n",
       "      \"100 H.E.L.P. PILIPINAS\",\n",
       "      \"101 HEALTH WORKERS\",\n",
       "      \"102 PEOPLE'S CHAMP\",\n",
       "      \"103 AA-KASOSYO PARTY\",\n",
       "      \"104 SOLID NORTH PARTY\",\n",
       "      \"105 ABAMIN\",\n",
       "      \"106 TRABAHO\",\n",
       "      \"107 ANGKASANGGA\",\n",
       "      \"108 TODA AKSYON\",\n",
       "      \"109 TURISMO\",\n",
       "      \"110 ABONO\",\n",
       "      \"111 ASAP NA\",\n",
       "      \"112 LINGAP\",\n",
       "      \"113 UNITED FRONTLINERS\",\n",
       "      \"114 KASAMBAHAY\",\n",
       "      \"115 TUTOK TO WIN\",\n",
       "      \"116 AKO OFW\",\n",
       "      \"117 AGAP\",\n",
       "      \"118 1TAHANAN\",\n",
       "      \"119 COOP-NATCCO\",\n",
       "      \"120 KABAYAN\",\n",
       "      \"121 1MUNTI\",\n",
       "      \"122 PINOY WORKERS\",\n",
       "      \"123 API PARTY\",\n",
       "      \"124 AKO BISAYA\",\n",
       "      \"125 KAMALAYAN\",\n",
       "      \"126 AKO TANOD\",\n",
       "      \"127 PROBINSYANO AKO\",\n",
       "      \"128 KABABAIHAN\",\n",
       "      \"129 RAM\",\n",
       "      \"130 ALONA\",\n",
       "      \"131 AKO BICOL\",\n",
       "      \"132 GP (GALING SA PUSO)\",\n",
       "      \"133 KAUNLAD PINOY\",\n",
       "      \"134 ABP\",\n",
       "      \"135 CWS\",\n",
       "      \"136 LPGMA\",\n",
       "      \"137 A TEACHER\",\n",
       "      \"138 SWERTE\",\n",
       "      \"139 GABAY\",\n",
       "      \"140 MALASAKIT@BAYANIHAN\",\n",
       "      \"141 AKAY NI SOL\",\n",
       "      \"142 LUNAS\",\n",
       "      \"143 DIWA\",\n",
       "      \"144 PINUNO\",\n",
       "      \"145 PAMILYA MUNA\",\n",
       "      \"146 BAGONG PILIPINAS\",\n",
       "      \"147 HUGPONG FEDERAL\",\n",
       "      \"148 TUPAD\",\n",
       "      \"149 LAANG KAWAL\",\n",
       "      \"150 PAMILYA KO\",\n",
       "      \"151 BBM\",\n",
       "      \"152 HEAL PH\",\n",
       "      \"153 ABANG LINGKOD\",\n",
       "      \"154 MAGSASAKA\",\n",
       "      \"155 MAHARLIKA\",\n",
       "      \"156 USWAG ILONGGO\"\n",
       "    ],\n",
       "    \"header\": \"PARTY LIST / Vote for 1 (Bumoto ng hindi hihigit sa 1)\",\n",
       "    \"voteFor\": 1,\n",
       "    \"count\": 155\n",
       "  }\n",
       "}"
      ]
     },
     "metadata": {},
     "output_type": "display_data"
    }
   ],
   "source": [
    "let national = extractCandidates(data)\n",
    "await Deno.jupyter.display(\n",
    "  { 'text/json': JSON.stringify(national, null, 2) },\n",
    "  { raw: true }\n",
    ")\n"
   ]
  },
  {
   "cell_type": "markdown",
   "metadata": {},
   "source": [
    "Nice. We finished the basic extraction of candidates to a list.\n",
    "\n",
    "The partylist count does not match as the [Wage Hike partylist withdrew their candidacy](https://www.inquirer.net/423441/party-list-group-wage-hike-withdraws-bid-from-2025-polls/) last December 17, 2024.\n",
    "\n",
    "We now write the results down into `.json` files."
   ]
  },
  {
   "cell_type": "code",
   "execution_count": 84,
   "metadata": {},
   "outputs": [],
   "source": [
    "fs.writeFileSync('./national.json', JSON.stringify(national))"
   ]
  },
  {
   "cell_type": "markdown",
   "metadata": {},
   "source": [
    "Let's test the code to include local candidates and add some sanity checks with it."
   ]
  },
  {
   "cell_type": "code",
   "execution_count": 87,
   "metadata": {},
   "outputs": [],
   "source": [
    "let akbarRaw = fs.readFileSync('./md/BARMM.BASILAN.AKBAR.md', 'utf8')"
   ]
  },
  {
   "cell_type": "code",
   "execution_count": 6,
   "metadata": {},
   "outputs": [],
   "source": [
    "function extractCandidatesWithSanityChecks (data: string) {\n",
    "  let nationalPosts = Object.keys(national)\n",
    "  let list = extractCandidates(data);\n",
    "\n",
    "  if (nationalPosts.some(nationalPost => list[nationalPost].count !== national[nationalPost].count)) {\n",
    "    throw new Error(`${nationalPost} count mismatch`)\n",
    "  }\n",
    "  \n",
    "  for (const nationalPost of nationalPosts) {\n",
    "    delete list[nationalPost]\n",
    "  }\n",
    "\n",
    "  return list\n",
    "}"
   ]
  },
  {
   "cell_type": "code",
   "execution_count": 99,
   "metadata": {},
   "outputs": [
    {
     "data": {
      "text/json": [
       "{\n",
       "  \"MEMBER, HOUSE OF REPRESENTATIVES\": {\n",
       "    \"candidates\": [\n",
       "      \"1. ALANO, YUSOP (PFP)\",\n",
       "      \"2. BUD, HANIE (LP)\"\n",
       "    ],\n",
       "    \"header\": \"MEMBER, HOUSE OF REPRESENTATIVES / Vote for 1 ﺐﻴﺗﺎﺘﻨﻴﺴﻳﺮﻔﻳﺭ ﻑﻭﺀ ﺱﻭﺀﺎﺣ,ﺮﻴﺒﻤﻴﻣ / 1 ﺭﻮﻓ ﺕﻮﺑ (Bumoto ng hindi hihigit sa 1)\",\n",
       "    \"voteFor\": 1,\n",
       "    \"count\": 2\n",
       "  },\n",
       "  \"PROVINCIAL GOVERNOR\": {\n",
       "    \"candidates\": [\n",
       "      \"1. HATAMAN, MUJIV (BUP)\",\n",
       "      \"2. MUTAMAD, OSAMA (PDR)\",\n",
       "      \"3. SALLIMAN, JAY HATAMAN (PFP)\"\n",
       "    ],\n",
       "    \"header\": \"PROVINCIAL GOVERNOR / Vote for 1 ﺭﻮﻧﺮﻴﺑﻮﻏ ﻝﺎﻴﺴﻨﻴﺑﺍﺮﻓ / 1 ﺭﻮﻓ ﺕﻮﺑ (Bumoto ng hindi hihigit sa 1)\",\n",
       "    \"voteFor\": 1,\n",
       "    \"count\": 3\n",
       "  },\n",
       "  \"PROVINCIAL VICE-GOVERNOR\": {\n",
       "    \"candidates\": [\n",
       "      \"1. HATAMAN SALLIMAN, JIM (PFP)\",\n",
       "      \"2. SATTAR, ALZAD (BUP)\"\n",
       "    ],\n",
       "    \"header\": \"PROVINCIAL VICE-GOVERNOR / Vote for 1 ﺭﻮﻧﺮﻴﺑﻮﻏ - ﺲﻳﺎﺑ ﻝﺎﻴﺴﻨﻴﺑﺍﺮﻓ / 1 ﺭﻮﻓ ﺕﻮﺑ (Bumoto ng hindi hihigit sa 1)\",\n",
       "    \"voteFor\": 1,\n",
       "    \"count\": 2\n",
       "  },\n",
       "  \"MEMBER, SANGGUNIANG PANLALAWIGAN\": {\n",
       "    \"candidates\": [\n",
       "      \"1. AKBAR, NUR-IN (LAKAS)\",\n",
       "      \"2. ASARUL, MIKO (PFP)\",\n",
       "      \"3. DINIL, JAMES (PDPLBN)\",\n",
       "      \"4. HANTIAN, RONIE (BUP)\",\n",
       "      \"5. HATAMAN, JUHAN (IND)\",\n",
       "      \"6. HATAMAN, MARWAN (PFP)\",\n",
       "      \"7. HATAMAN, NAJIB (BUP)\",\n",
       "      \"8. IDRIS, KASIM (IND)\",\n",
       "      \"9. ISTARUL, NUR-KHAN (PFP)\",\n",
       "      \"10. JALIL, SHING (PDPLBN)\",\n",
       "      \"11. SAKKALAHUL, KEEMHAR JAY (PFP)\"\n",
       "    ],\n",
       "    \"header\": \"MEMBER, SANGGUNIANG PANLALAWIGAN / Vote for 6 ﻥﺎﻐﻳﻭﻻﻼﻧﺎﻓ ﻥﺎﻴﻧﻮﻐﻐﻧﺎﺳ,ﺮﻴﺒﻤﻴﻣ / 6 ﺭﻮﻓ ﺕﻮﺑ (Bumoto ng hindi hihigit sa 6)\",\n",
       "    \"voteFor\": 6,\n",
       "    \"count\": 11\n",
       "  },\n",
       "  \"MAYOR\": {\n",
       "    \"candidates\": [\n",
       "      \"1. SALI, ALIH (UBJP)\"\n",
       "    ],\n",
       "    \"header\": \"MAYOR / Vote for 1 ﺭﻮﻴﻣ / 1 ﺭﻮﻓ ﺕﻮﺑ (Bumoto ng hindi hihigit sa 1)\",\n",
       "    \"voteFor\": 1,\n",
       "    \"count\": 1\n",
       "  },\n",
       "  \"VICE-MAYOR\": {\n",
       "    \"candidates\": [\n",
       "      \"1. SALI, RAIZA (PFP)\"\n",
       "    ],\n",
       "    \"header\": \"VICE-MAYOR / Vote for 1 ﺭﻮﻴﻣ - ﺲﻳﺎﺑ / 1 ﺭﻮﻓ ﺕﻮﺑ (Bumoto ng hindi hihigit sa 1)\",\n",
       "    \"voteFor\": 1,\n",
       "    \"count\": 1\n",
       "  },\n",
       "  \"MEMBER, SANGGUNIANG BAYAN\": {\n",
       "    \"candidates\": [\n",
       "      \"1. AMIN, HAJARA (PFP)\",\n",
       "      \"2. ANTIH, BASIT (PFP)\",\n",
       "      \"3. IBNO, MUKARMA (UBJP)\",\n",
       "      \"4. JAHADDIN, BASSAL (UBJP)\",\n",
       "      \"5. MOMBO, KADAPI (UBJP)\",\n",
       "      \"6. MUSLIMIN, UBAIDIE (UBJP)\",\n",
       "      \"7. SALI, TIMHAR (PFP)\",\n",
       "      \"8. SANAN, WAHAB (PFP)\"\n",
       "    ],\n",
       "    \"header\": \"MEMBER, SANGGUNIANG BAYAN / Vote for 8 ﻥﺎﻳﺎﺑ ﻥﺎﻴﻧﻮﻐﻐﻧﺎﺳ,ﺮﻴﺒﻤﻴﻣ / 8 ﺭﻮﻓ ﺕﻮﺑ (Bumoto ng hindi hihigit sa 8)\",\n",
       "    \"voteFor\": 8,\n",
       "    \"count\": 8\n",
       "  },\n",
       "  \"BARMM PARTY REPRESENTATIVES\": {\n",
       "    \"candidates\": [\n",
       "      \"1. BAPA\",\n",
       "      \"2. BGC\",\n",
       "      \"3. MAHARDIKA\",\n",
       "      \"4. MORO AKO\",\n",
       "      \"5. PRO BANGSAMORO PARTY\",\n",
       "      \"6. RAAYAT DEMOCRATIC PARTY\",\n",
       "      \"7. UBJP\"\n",
       "    ],\n",
       "    \"header\": \"BARMM PARTY REPRESENTATIVES / Vote for 1 ﺐﺗﺎﺘﻨﻴﺷﺮﻓﺭ ﻲﺗﺮﻓ ﻢﻣﺭﺎﺑ / 1 ﺭﻮﻓ ﺕﻮﺑ (Bumoto ng hindi hihigit sa 1)\",\n",
       "    \"voteFor\": 1,\n",
       "    \"count\": 7\n",
       "  },\n",
       "  \"BARMM MEMBERS OF THE PARLIAMENT\": {\n",
       "    \"candidates\": [\n",
       "      \"1. BAISARA, MARVIN (ITIHAD)\",\n",
       "      \"2. CUTAL, ABUBAKAR (BAPA)\",\n",
       "      \"3. HASSAN, RIMA (IND)\",\n",
       "      \"4. SALI, PAI (UBJP)\"\n",
       "    ],\n",
       "    \"header\": \"BARMM MEMBERS OF THE PARLIAMENT / Vote for 1 ﺖﻨﻴﻤﻴﻟﺭﺎﻓ ﺩ ﻑﻭﺃ ﺵﺮﻴﺒﻤﻴﻣ ﻢﻣﺭﺎﺑ / 1 ﺭﻮﻓ ﺕﻮﺑ (Bumoto ng hindi hihigit sa 1)\",\n",
       "    \"voteFor\": 1,\n",
       "    \"count\": 4\n",
       "  }\n",
       "}"
      ]
     },
     "metadata": {},
     "output_type": "display_data"
    }
   ],
   "source": [
    "let akbar = extractCandidatesWithSanityChecks(akbarRaw)\n",
    "await Deno.jupyter.display(\n",
    "  { 'text/json': JSON.stringify(akbar, null, 2) },\n",
    "  { raw: true }\n",
    ")"
   ]
  },
  {
   "cell_type": "markdown",
   "metadata": {},
   "source": [
    "Time to run it for all files."
   ]
  },
  {
   "cell_type": "code",
   "execution_count": 9,
   "metadata": {},
   "outputs": [],
   "source": [
    "const markdownFiles = fs.readdirSync('./md')"
   ]
  },
  {
   "cell_type": "code",
   "execution_count": 7,
   "metadata": {},
   "outputs": [
    {
     "name": "stdout",
     "output_type": "stream",
     "text": [
      "10% complete\n",
      "20% complete\n",
      "30% complete\n",
      "40% complete\n",
      "50% complete\n",
      "60% complete\n",
      "70% complete\n",
      "80% complete\n",
      "90% complete\n",
      "100% complete\n"
     ]
    },
    {
     "data": {
      "text/plain": [
       "\u001b[33m100\u001b[39m"
      ]
     },
     "execution_count": 7,
     "metadata": {},
     "output_type": "execute_result"
    }
   ],
   "source": [
    "let prevPercent = 0.0\n",
    "\n",
    "for (const [index, markdownFile] of markdownFiles.entries()) {\n",
    "  let markdownString = fs.readFileSync(`./md/${markdownFile}`, 'utf8')\n",
    "  let cityMuniName = path.parse(markdownFile).name\n",
    "  let cityMuni = \"\"\n",
    "\n",
    "  try {\n",
    "    cityMuni = extractCandidatesWithSanityChecks(markdownString)\n",
    "  } catch (e) {\n",
    "    console.error(\"Error at: \", cityMuniName, e);\n",
    "  }\n",
    "  \n",
    "  if (cityMuni === \"\") throw new Error(\"Failed to read \", cityMuniName)\n",
    "\n",
    "  fs.writeFileSync(`./json/${cityMuniName}.json`, JSON.stringify(cityMuni))\n",
    "\n",
    "  let percent = ((index + 1) / markdownFiles.length) * 100.0\n",
    "  if (Math.floor(prevPercent / 10.0) < Math.floor(percent / 10.0)) {\n",
    "    console.log(`${Math.round(percent)}% complete`)\n",
    "    prevPercent = percent\n",
    "  }\n",
    "}"
   ]
  },
  {
   "cell_type": "markdown",
   "metadata": {},
   "source": [
    "## Aggregate Stats \n",
    "\n",
    "With everything parsed, we now get the total number of candidates, the positions to elect them in, and if there are any discrepancies."
   ]
  },
  {
   "cell_type": "code",
   "execution_count": 12,
   "metadata": {},
   "outputs": [],
   "source": [
    "// import { display } from 'https://deno.land/x/display/mod.ts'\n",
    "import * as pl from 'npm:nodejs-polars'\n"
   ]
  },
  {
   "cell_type": "code",
   "execution_count": 13,
   "metadata": {},
   "outputs": [],
   "source": [
    "const jsonFiles = fs.readdirSync('./json')"
   ]
  },
  {
   "cell_type": "code",
   "execution_count": 10,
   "metadata": {},
   "outputs": [
    {
     "name": "stdout",
     "output_type": "stream",
     "text": [
      "10% complete\n",
      "20% complete\n",
      "30% complete\n",
      "40% complete\n",
      "50% complete\n",
      "60% complete\n",
      "70% complete\n",
      "80% complete\n",
      "90% complete\n",
      "100% complete\n"
     ]
    },
    {
     "data": {
      "application/vnd.dataresource+json": {
       "data": [
        {
         "count": 66,
         "position": "SENATOR",
         "voteFor": 12
        },
        {
         "count": 155,
         "position": "PARTY LIST",
         "voteFor": 1
        },
        {
         "count": 3931,
         "position": "MEMBER, HOUSE OF REPRESENTATIVES",
         "voteFor": 1
        },
        {
         "count": 4571,
         "position": "PROVINCIAL GOVERNOR",
         "voteFor": 1
        },
        {
         "count": 3903,
         "position": "PROVINCIAL VICE-GOVERNOR",
         "voteFor": 1
        },
        {
         "count": 12336,
         "position": "MEMBER, SANGGUNIANG PANLALAWIGAN",
         "voteFor": 5
        },
        {
         "count": 3951,
         "position": "MAYOR",
         "voteFor": 1
        },
        {
         "count": 3622,
         "position": "VICE-MAYOR",
         "voteFor": 1
        },
        {
         "count": 27427,
         "position": "MEMBER, SANGGUNIANG BAYAN",
         "voteFor": 8
        },
        {
         "count": 763,
         "position": "BARMM PARTY REPRESENTATIVES",
         "voteFor": 1
        },
        {
         "count": 470,
         "position": "BARMM MEMBERS OF THE PARLIAMENT",
         "voteFor": 1
        },
        {
         "count": 3978,
         "position": "MEMBER, SANGGUNIANG PANLUNGSOD",
         "voteFor": 10
        }
       ],
       "schema": {
        "fields": [
         {
          "name": "position",
          "type": "string"
         },
         {
          "name": "voteFor",
          "type": "number"
         },
         {
          "name": "count",
          "type": "number"
         }
        ]
       }
      },
      "text/html": [
       "<table><thead><tr><th>position</th><th>voteFor</th><th>count</th></tr></thead><tbody><tr><td>SENATOR</td><td>12</td><td>66</td></tr><tr><td>PARTY LIST</td><td>1</td><td>155</td></tr><tr><td>MEMBER, HOUSE OF REPRESENTATIVES</td><td>1</td><td>3931</td></tr><tr><td>PROVINCIAL GOVERNOR</td><td>1</td><td>4571</td></tr><tr><td>PROVINCIAL VICE-GOVERNOR</td><td>1</td><td>3903</td></tr><tr><td>MEMBER, SANGGUNIANG PANLALAWIGAN</td><td>5</td><td>12336</td></tr><tr><td>MAYOR</td><td>1</td><td>3951</td></tr><tr><td>VICE-MAYOR</td><td>1</td><td>3622</td></tr><tr><td>MEMBER, SANGGUNIANG BAYAN</td><td>8</td><td>27427</td></tr><tr><td>BARMM PARTY REPRESENTATIVES</td><td>1</td><td>763</td></tr><tr><td>BARMM MEMBERS OF THE PARLIAMENT</td><td>1</td><td>470</td></tr><tr><td>MEMBER, SANGGUNIANG PANLUNGSOD</td><td>10</td><td>3978</td></tr></tbody></table>"
      ]
     },
     "execution_count": 10,
     "metadata": {},
     "output_type": "execute_result"
    }
   ],
   "source": [
    "let prevPercent = 0.0\n",
    "\n",
    "let candidateTally = {}\n",
    "\n",
    "for (const position of Object.keys(national)) {\n",
    "  candidateTally[position] = {\n",
    "    voteFor: national[position].voteFor || 0,\n",
    "    count: national[position].count || 0,\n",
    "  }\n",
    "}\n",
    "\n",
    "for (const [index, jsonFile] of jsonFiles.entries()) {\n",
    "  let jsonString = fs.readFileSync(`./json/${jsonFile}`, 'utf8')\n",
    "  // let cityMuniName = path.parse(jsonFile).name\n",
    "  let cityMuni = JSON.parse(jsonString)\n",
    "\n",
    "  for (const position of Object.keys(cityMuni)) {\n",
    "    candidateTally[position] = {\n",
    "      voteFor:\n",
    "        (cityMuni[position]?.voteFor ?? 0),\n",
    "      count: (candidateTally[position]?.count ?? 0) + cityMuni[position].count ?? 0,\n",
    "    }\n",
    "  }\n",
    "\n",
    "  let percent = ((index + 1) / markdownFiles.length) * 100.0\n",
    "  if (Math.floor(prevPercent / 10.0) < Math.floor(percent / 10.0)) {\n",
    "    console.log(`${Math.round(percent)}% complete`)\n",
    "    prevPercent = percent\n",
    "  }\n",
    "}\n",
    "\n",
    "let dataFrameObj = {\n",
    "  position: [],\n",
    "  voteFor: [],\n",
    "  count: [],\n",
    "}\n",
    "\n",
    "for (const position of Object.keys(candidateTally)) {\n",
    "  dataFrameObj.position.push(position)\n",
    "  dataFrameObj.voteFor.push(candidateTally[position].voteFor)\n",
    "  dataFrameObj.count.push(candidateTally[position].count)\n",
    "}\n",
    "\n",
    "let dataFrame = new pl.DataFrame(dataFrameObj)\n",
    "\n",
    "dataFrame\n",
    "// await display(dataFrame)"
   ]
  },
  {
   "cell_type": "markdown",
   "metadata": {},
   "source": [
    "## Generating the local mapping file\n",
    "\n",
    "To include candidates for local posts, we have the user search their province and city/municipality they are registered in. Sometimes, cities are further divided into districts.\n",
    "\n",
    "From the filename of the Markdown files, we will now generate a CSV file containing the following:\n",
    "- Identifier: The Markdown filename (format: `<region>.<province>.<cityMunicipality>` or `NCR.<cityMunicipality>`)\n",
    "- Province: The name of the province (or NCR)\n",
    "- City (and District) or Municipality: The name of the city (and district) or municipality\n",
    "\n",
    "We then will use the Philippine Standard Geographic Code (PSGC) of 3Q 2024 ([source](https://psa.gov.ph/classification/psgc), up to date as of September 30, 2024) to align proper spelling of the provinces and cities/municipalities through Levenshtein distance."
   ]
  },
  {
   "cell_type": "code",
   "execution_count": 21,
   "metadata": {},
   "outputs": [
    {
     "data": {
      "text/plain": [
       "\u001b[33m1681\u001b[39m"
      ]
     },
     "execution_count": 21,
     "metadata": {},
     "output_type": "execute_result"
    }
   ],
   "source": [
    "let dataFrameMappingObj = {\n",
    "  identifier: [],\n",
    "  province: [],\n",
    "  cityMunicipality: []\n",
    "}\n",
    "\n",
    "for (const markdownFile of markdownFiles) {\n",
    "  let identifier = path.parse(markdownFile).name\n",
    "  let splits = identifier.split('.')\n",
    "\n",
    "  if (splits.length === 2) {\n",
    "    dataFrameMappingObj.identifier.push(identifier)\n",
    "    dataFrameMappingObj.province.push(splits[0])\n",
    "    dataFrameMappingObj.cityMunicipality.push(splits[1])\n",
    "  }\n",
    "\n",
    "  if (splits.length === 3) {\n",
    "    dataFrameMappingObj.identifier.push(identifier)\n",
    "    dataFrameMappingObj.province.push(splits[1])                          // Skip the region\n",
    "    dataFrameMappingObj.cityMunicipality.push(splits[2])\n",
    "  }\n",
    "}"
   ]
  },
  {
   "cell_type": "code",
   "execution_count": 164,
   "metadata": {},
   "outputs": [
    {
     "data": {
      "application/vnd.dataresource+json": {
       "data": [
        {
         "cityMunicipality": "BANGUED",
         "identifier": "BFT_CAR.ABRA.BANGUED",
         "province": "ABRA"
        },
        {
         "cityMunicipality": "BOLINEY",
         "identifier": "BFT_CAR.ABRA.BOLINEY",
         "province": "ABRA"
        },
        {
         "cityMunicipality": "BUCAY",
         "identifier": "BFT_CAR.ABRA.BUCAY",
         "province": "ABRA"
        },
        {
         "cityMunicipality": "BUCLOC",
         "identifier": "BFT_CAR.ABRA.BUCLOC",
         "province": "ABRA"
        },
        {
         "cityMunicipality": "DAGUIOMAN",
         "identifier": "BFT_CAR.ABRA.DAGUIOMAN",
         "province": "ABRA"
        },
        {
         "cityMunicipality": "DANGLAS",
         "identifier": "BFT_CAR.ABRA.DANGLAS",
         "province": "ABRA"
        },
        {
         "cityMunicipality": "DOLORES",
         "identifier": "BFT_CAR.ABRA.DOLORES",
         "province": "ABRA"
        },
        {
         "cityMunicipality": "LACUB",
         "identifier": "BFT_CAR.ABRA.LACUB",
         "province": "ABRA"
        },
        {
         "cityMunicipality": "LAGANGILANG",
         "identifier": "BFT_CAR.ABRA.LAGANGILANG",
         "province": "ABRA"
        },
        {
         "cityMunicipality": "LAGAYAN",
         "identifier": "BFT_CAR.ABRA.LAGAYAN",
         "province": "ABRA"
        },
        {
         "cityMunicipality": "LANGIDEN",
         "identifier": "BFT_CAR.ABRA.LANGIDEN",
         "province": "ABRA"
        },
        {
         "cityMunicipality": "LAPAZ",
         "identifier": "BFT_CAR.ABRA.LAPAZ",
         "province": "ABRA"
        },
        {
         "cityMunicipality": "LICUANBAAY",
         "identifier": "BFT_CAR.ABRA.LICUANBAAY",
         "province": "ABRA"
        },
        {
         "cityMunicipality": "LUBA",
         "identifier": "BFT_CAR.ABRA.LUBA",
         "province": "ABRA"
        },
        {
         "cityMunicipality": "MALIBCONG",
         "identifier": "BFT_CAR.ABRA.MALIBCONG",
         "province": "ABRA"
        },
        {
         "cityMunicipality": "MANABO",
         "identifier": "BFT_CAR.ABRA.MANABO",
         "province": "ABRA"
        },
        {
         "cityMunicipality": "PEnARRUBIA",
         "identifier": "BFT_CAR.ABRA.PEnARRUBIA",
         "province": "ABRA"
        },
        {
         "cityMunicipality": "PIDIGAN",
         "identifier": "BFT_CAR.ABRA.PIDIGAN",
         "province": "ABRA"
        },
        {
         "cityMunicipality": "PILAR",
         "identifier": "BFT_CAR.ABRA.PILAR",
         "province": "ABRA"
        },
        {
         "cityMunicipality": "SALLAPADAN",
         "identifier": "BFT_CAR.ABRA.SALLAPADAN",
         "province": "ABRA"
        },
        {
         "cityMunicipality": "SANISIDRO",
         "identifier": "BFT_CAR.ABRA.SANISIDRO",
         "province": "ABRA"
        },
        {
         "cityMunicipality": "SANJUAN",
         "identifier": "BFT_CAR.ABRA.SANJUAN",
         "province": "ABRA"
        },
        {
         "cityMunicipality": "SANQUINTIN",
         "identifier": "BFT_CAR.ABRA.SANQUINTIN",
         "province": "ABRA"
        },
        {
         "cityMunicipality": "TAYUM",
         "identifier": "BFT_CAR.ABRA.TAYUM",
         "province": "ABRA"
        },
        {
         "cityMunicipality": "TINEG",
         "identifier": "BFT_CAR.ABRA.TINEG",
         "province": "ABRA"
        },
        {
         "cityMunicipality": "TUBO",
         "identifier": "BFT_CAR.ABRA.TUBO",
         "province": "ABRA"
        },
        {
         "cityMunicipality": "VILLAVICIOSA",
         "identifier": "BFT_CAR.ABRA.VILLAVICIOSA",
         "province": "ABRA"
        },
        {
         "cityMunicipality": "BUENAVISTA",
         "identifier": "BFT_R13.AGUSAN_DEL_NORTE.BUENAVISTA",
         "province": "AGUSAN DEL NORTE"
        },
        {
         "cityMunicipality": "CARMEN",
         "identifier": "BFT_R13.AGUSAN_DEL_NORTE.CARMEN",
         "province": "AGUSAN DEL NORTE"
        },
        {
         "cityMunicipality": "CITY OF BUTUAN",
         "identifier": "BFT_R13.AGUSAN_DEL_NORTE.CITY_OF_BUTUAN",
         "province": "AGUSAN DEL NORTE"
        },
        {
         "cityMunicipality": "CITY OF CABADBARAN",
         "identifier": "BFT_R13.AGUSAN_DEL_NORTE.CITY_OF_CABADBARAN",
         "province": "AGUSAN DEL NORTE"
        },
        {
         "cityMunicipality": "JABONGA",
         "identifier": "BFT_R13.AGUSAN_DEL_NORTE.JABONGA",
         "province": "AGUSAN DEL NORTE"
        },
        {
         "cityMunicipality": "KITCHARAO",
         "identifier": "BFT_R13.AGUSAN_DEL_NORTE.KITCHARAO",
         "province": "AGUSAN DEL NORTE"
        },
        {
         "cityMunicipality": "LAS NIEVES",
         "identifier": "BFT_R13.AGUSAN_DEL_NORTE.LAS_NIEVES",
         "province": "AGUSAN DEL NORTE"
        },
        {
         "cityMunicipality": "MAGALLANES",
         "identifier": "BFT_R13.AGUSAN_DEL_NORTE.MAGALLANES",
         "province": "AGUSAN DEL NORTE"
        },
        {
         "cityMunicipality": "NASIPIT",
         "identifier": "BFT_R13.AGUSAN_DEL_NORTE.NASIPIT",
         "province": "AGUSAN DEL NORTE"
        },
        {
         "cityMunicipality": "REMEDIOS T ROMUALDEZ",
         "identifier": "BFT_R13.AGUSAN_DEL_NORTE.REMEDIOS_T_ROMUALDEZ",
         "province": "AGUSAN DEL NORTE"
        },
        {
         "cityMunicipality": "SANTIAGO",
         "identifier": "BFT_R13.AGUSAN_DEL_NORTE.SANTIAGO",
         "province": "AGUSAN DEL NORTE"
        },
        {
         "cityMunicipality": "TUBAY",
         "identifier": "BFT_R13.AGUSAN_DEL_NORTE.TUBAY",
         "province": "AGUSAN DEL NORTE"
        },
        {
         "cityMunicipality": "BUNAWAN",
         "identifier": "BFT_R13.AGUSAN_DEL_SUR.BUNAWAN",
         "province": "AGUSAN DEL SUR"
        },
        {
         "cityMunicipality": "CITY OF BAYUGAN",
         "identifier": "BFT_R13.AGUSAN_DEL_SUR.CITY_OF_BAYUGAN",
         "province": "AGUSAN DEL SUR"
        },
        {
         "cityMunicipality": "ESPERANZA",
         "identifier": "BFT_R13.AGUSAN_DEL_SUR.ESPERANZA",
         "province": "AGUSAN DEL SUR"
        },
        {
         "cityMunicipality": "LA PAZ",
         "identifier": "BFT_R13.AGUSAN_DEL_SUR.LA_PAZ",
         "province": "AGUSAN DEL SUR"
        },
        {
         "cityMunicipality": "LORETO",
         "identifier": "BFT_R13.AGUSAN_DEL_SUR.LORETO",
         "province": "AGUSAN DEL SUR"
        },
        {
         "cityMunicipality": "PROSPERIDAD",
         "identifier": "BFT_R13.AGUSAN_DEL_SUR.PROSPERIDAD",
         "province": "AGUSAN DEL SUR"
        },
        {
         "cityMunicipality": "ROSARIO",
         "identifier": "BFT_R13.AGUSAN_DEL_SUR.ROSARIO",
         "province": "AGUSAN DEL SUR"
        },
        {
         "cityMunicipality": "SANTA JOSEFA",
         "identifier": "BFT_R13.AGUSAN_DEL_SUR.SANTA_JOSEFA",
         "province": "AGUSAN DEL SUR"
        },
        {
         "cityMunicipality": "SAN FRANCISCO",
         "identifier": "BFT_R13.AGUSAN_DEL_SUR.SAN_FRANCISCO",
         "province": "AGUSAN DEL SUR"
        },
        {
         "cityMunicipality": "SAN LUIS",
         "identifier": "BFT_R13.AGUSAN_DEL_SUR.SAN_LUIS",
         "province": "AGUSAN DEL SUR"
        },
        {
         "cityMunicipality": "SIBAGAT",
         "identifier": "BFT_R13.AGUSAN_DEL_SUR.SIBAGAT",
         "province": "AGUSAN DEL SUR"
        }
       ],
       "schema": {
        "fields": [
         {
          "name": "identifier",
          "type": "string"
         },
         {
          "name": "province",
          "type": "string"
         },
         {
          "name": "cityMunicipality",
          "type": "string"
         }
        ]
       }
      },
      "text/html": [
       "<table><thead><tr><th>identifier</th><th>province</th><th>cityMunicipality</th></tr></thead><tbody><tr><td>BFT_CAR.ABRA.BANGUED</td><td>ABRA</td><td>BANGUED</td></tr><tr><td>BFT_CAR.ABRA.BOLINEY</td><td>ABRA</td><td>BOLINEY</td></tr><tr><td>BFT_CAR.ABRA.BUCAY</td><td>ABRA</td><td>BUCAY</td></tr><tr><td>BFT_CAR.ABRA.BUCLOC</td><td>ABRA</td><td>BUCLOC</td></tr><tr><td>BFT_CAR.ABRA.DAGUIOMAN</td><td>ABRA</td><td>DAGUIOMAN</td></tr><tr><td>BFT_CAR.ABRA.DANGLAS</td><td>ABRA</td><td>DANGLAS</td></tr><tr><td>BFT_CAR.ABRA.DOLORES</td><td>ABRA</td><td>DOLORES</td></tr><tr><td>BFT_CAR.ABRA.LACUB</td><td>ABRA</td><td>LACUB</td></tr><tr><td>BFT_CAR.ABRA.LAGANGILANG</td><td>ABRA</td><td>LAGANGILANG</td></tr><tr><td>BFT_CAR.ABRA.LAGAYAN</td><td>ABRA</td><td>LAGAYAN</td></tr><tr><td>BFT_CAR.ABRA.LANGIDEN</td><td>ABRA</td><td>LANGIDEN</td></tr><tr><td>BFT_CAR.ABRA.LAPAZ</td><td>ABRA</td><td>LAPAZ</td></tr><tr><td>BFT_CAR.ABRA.LICUANBAAY</td><td>ABRA</td><td>LICUANBAAY</td></tr><tr><td>BFT_CAR.ABRA.LUBA</td><td>ABRA</td><td>LUBA</td></tr><tr><td>BFT_CAR.ABRA.MALIBCONG</td><td>ABRA</td><td>MALIBCONG</td></tr><tr><td>BFT_CAR.ABRA.MANABO</td><td>ABRA</td><td>MANABO</td></tr><tr><td>BFT_CAR.ABRA.PEnARRUBIA</td><td>ABRA</td><td>PEnARRUBIA</td></tr><tr><td>BFT_CAR.ABRA.PIDIGAN</td><td>ABRA</td><td>PIDIGAN</td></tr><tr><td>BFT_CAR.ABRA.PILAR</td><td>ABRA</td><td>PILAR</td></tr><tr><td>BFT_CAR.ABRA.SALLAPADAN</td><td>ABRA</td><td>SALLAPADAN</td></tr><tr><td>BFT_CAR.ABRA.SANISIDRO</td><td>ABRA</td><td>SANISIDRO</td></tr><tr><td>BFT_CAR.ABRA.SANJUAN</td><td>ABRA</td><td>SANJUAN</td></tr><tr><td>BFT_CAR.ABRA.SANQUINTIN</td><td>ABRA</td><td>SANQUINTIN</td></tr><tr><td>BFT_CAR.ABRA.TAYUM</td><td>ABRA</td><td>TAYUM</td></tr><tr><td>BFT_CAR.ABRA.TINEG</td><td>ABRA</td><td>TINEG</td></tr><tr><td>BFT_CAR.ABRA.TUBO</td><td>ABRA</td><td>TUBO</td></tr><tr><td>BFT_CAR.ABRA.VILLAVICIOSA</td><td>ABRA</td><td>VILLAVICIOSA</td></tr><tr><td>BFT_R13.AGUSAN_DEL_NORTE.BUENAVISTA</td><td>AGUSAN DEL NORTE</td><td>BUENAVISTA</td></tr><tr><td>BFT_R13.AGUSAN_DEL_NORTE.CARMEN</td><td>AGUSAN DEL NORTE</td><td>CARMEN</td></tr><tr><td>BFT_R13.AGUSAN_DEL_NORTE.CITY_OF_BUTUAN</td><td>AGUSAN DEL NORTE</td><td>CITY OF BUTUAN</td></tr><tr><td>BFT_R13.AGUSAN_DEL_NORTE.CITY_OF_CABADBARAN</td><td>AGUSAN DEL NORTE</td><td>CITY OF CABADBARAN</td></tr><tr><td>BFT_R13.AGUSAN_DEL_NORTE.JABONGA</td><td>AGUSAN DEL NORTE</td><td>JABONGA</td></tr><tr><td>BFT_R13.AGUSAN_DEL_NORTE.KITCHARAO</td><td>AGUSAN DEL NORTE</td><td>KITCHARAO</td></tr><tr><td>BFT_R13.AGUSAN_DEL_NORTE.LAS_NIEVES</td><td>AGUSAN DEL NORTE</td><td>LAS NIEVES</td></tr><tr><td>BFT_R13.AGUSAN_DEL_NORTE.MAGALLANES</td><td>AGUSAN DEL NORTE</td><td>MAGALLANES</td></tr><tr><td>BFT_R13.AGUSAN_DEL_NORTE.NASIPIT</td><td>AGUSAN DEL NORTE</td><td>NASIPIT</td></tr><tr><td>BFT_R13.AGUSAN_DEL_NORTE.REMEDIOS_T_ROMUALDEZ</td><td>AGUSAN DEL NORTE</td><td>REMEDIOS T ROMUALDEZ</td></tr><tr><td>BFT_R13.AGUSAN_DEL_NORTE.SANTIAGO</td><td>AGUSAN DEL NORTE</td><td>SANTIAGO</td></tr><tr><td>BFT_R13.AGUSAN_DEL_NORTE.TUBAY</td><td>AGUSAN DEL NORTE</td><td>TUBAY</td></tr><tr><td>BFT_R13.AGUSAN_DEL_SUR.BUNAWAN</td><td>AGUSAN DEL SUR</td><td>BUNAWAN</td></tr><tr><td>BFT_R13.AGUSAN_DEL_SUR.CITY_OF_BAYUGAN</td><td>AGUSAN DEL SUR</td><td>CITY OF BAYUGAN</td></tr><tr><td>BFT_R13.AGUSAN_DEL_SUR.ESPERANZA</td><td>AGUSAN DEL SUR</td><td>ESPERANZA</td></tr><tr><td>BFT_R13.AGUSAN_DEL_SUR.LA_PAZ</td><td>AGUSAN DEL SUR</td><td>LA PAZ</td></tr><tr><td>BFT_R13.AGUSAN_DEL_SUR.LORETO</td><td>AGUSAN DEL SUR</td><td>LORETO</td></tr><tr><td>BFT_R13.AGUSAN_DEL_SUR.PROSPERIDAD</td><td>AGUSAN DEL SUR</td><td>PROSPERIDAD</td></tr><tr><td>BFT_R13.AGUSAN_DEL_SUR.ROSARIO</td><td>AGUSAN DEL SUR</td><td>ROSARIO</td></tr><tr><td>BFT_R13.AGUSAN_DEL_SUR.SANTA_JOSEFA</td><td>AGUSAN DEL SUR</td><td>SANTA JOSEFA</td></tr><tr><td>BFT_R13.AGUSAN_DEL_SUR.SAN_FRANCISCO</td><td>AGUSAN DEL SUR</td><td>SAN FRANCISCO</td></tr><tr><td>BFT_R13.AGUSAN_DEL_SUR.SAN_LUIS</td><td>AGUSAN DEL SUR</td><td>SAN LUIS</td></tr><tr><td>BFT_R13.AGUSAN_DEL_SUR.SIBAGAT</td><td>AGUSAN DEL SUR</td><td>SIBAGAT</td></tr></tbody></table>"
      ]
     },
     "execution_count": 164,
     "metadata": {},
     "output_type": "execute_result"
    }
   ],
   "source": [
    "let dataFrameMapping = new pl.DataFrame(dataFrameMappingObj)\n",
    "  .sort('province')\n",
    "  .select(\n",
    "    'identifier',\n",
    "    pl.col('province').str.replaceAll('_', ' '),\n",
    "    pl.col('cityMunicipality').str.replaceAll('_', ' ')\n",
    "  )\n",
    "  \n",
    "dataFrameMapping\n"
   ]
  },
  {
   "cell_type": "code",
   "execution_count": 165,
   "metadata": {},
   "outputs": [
    {
     "data": {
      "text/plain": [
       "[\n",
       "  \u001b[32m\"ABRA\"\u001b[39m,              \u001b[32m\"AGUSAN DEL NORTE\"\u001b[39m,   \u001b[32m\"AGUSAN DEL SUR\"\u001b[39m,\n",
       "  \u001b[32m\"AKLAN\"\u001b[39m,             \u001b[32m\"ALBAY\"\u001b[39m,              \u001b[32m\"ANTIQUE\"\u001b[39m,\n",
       "  \u001b[32m\"APAYAO\"\u001b[39m,            \u001b[32m\"AURORA\"\u001b[39m,             \u001b[32m\"BASILAN\"\u001b[39m,\n",
       "  \u001b[32m\"BATAAN\"\u001b[39m,            \u001b[32m\"BATANES\"\u001b[39m,            \u001b[32m\"BATANGAS\"\u001b[39m,\n",
       "  \u001b[32m\"BENGUET\"\u001b[39m,           \u001b[32m\"BILIRAN\"\u001b[39m,            \u001b[32m\"BOHOL\"\u001b[39m,\n",
       "  \u001b[32m\"BUKIDNON\"\u001b[39m,          \u001b[32m\"BULACAN\"\u001b[39m,            \u001b[32m\"CAGAYAN\"\u001b[39m,\n",
       "  \u001b[32m\"CAMARINES NORTE\"\u001b[39m,   \u001b[32m\"CAMARINES SUR\"\u001b[39m,      \u001b[32m\"CAMIGUIN\"\u001b[39m,\n",
       "  \u001b[32m\"CAPIZ\"\u001b[39m,             \u001b[32m\"CATANDUANES\"\u001b[39m,        \u001b[32m\"CAVITE\"\u001b[39m,\n",
       "  \u001b[32m\"CEBU\"\u001b[39m,              \u001b[32m\"COTABATO\"\u001b[39m,           \u001b[32m\"DAVAODELNORTE\"\u001b[39m,\n",
       "  \u001b[32m\"DAVAODELSUR\"\u001b[39m,       \u001b[32m\"DAVAODEORO\"\u001b[39m,         \u001b[32m\"DAVAOOCCIDENTAL\"\u001b[39m,\n",
       "  \u001b[32m\"DAVAOORIENTAL\"\u001b[39m,     \u001b[32m\"DINAGAT ISLANDS\"\u001b[39m,    \u001b[32m\"EASTERN SAMAR\"\u001b[39m,\n",
       "  \u001b[32m\"GUIMARAS\"\u001b[39m,          \u001b[32m\"IFUGAO\"\u001b[39m,             \u001b[32m\"ILOCOS SUR\"\u001b[39m,\n",
       "  \u001b[32m\"ILOCOSNORTE\"\u001b[39m,       \u001b[32m\"ILOILO\"\u001b[39m,             \u001b[32m\"ISABELA\"\u001b[39m,\n",
       "  \u001b[32m\"KALINGA\"\u001b[39m,           \u001b[32m\"LAGUNA\"\u001b[39m,             \u001b[32m\"LANAODELSUR\"\u001b[39m,\n",
       "  \u001b[32m\"LAUNION\"\u001b[39m,           \u001b[32m\"LDN\"\u001b[39m,                \u001b[32m\"LEYTE\"\u001b[39m,\n",
       "  \u001b[32m\"MAGUINDANAODELSUR\"\u001b[39m, \u001b[32m\"MAGUINDANAONORTE\"\u001b[39m,   \u001b[32m\"MARINDUQUE\"\u001b[39m,\n",
       "  \u001b[32m\"MASBATE\"\u001b[39m,           \u001b[32m\"MISOR\"\u001b[39m,              \u001b[32m\"MISSOCC\"\u001b[39m,\n",
       "  \u001b[32m\"MPROVINCE\"\u001b[39m,         \u001b[32m\"NCR\"\u001b[39m,                \u001b[32m\"NEGROS OCCIDENTAL\"\u001b[39m,\n",
       "  \u001b[32m\"NEGROS ORIENTAL\"\u001b[39m,   \u001b[32m\"NORTHERN SAMAR\"\u001b[39m,     \u001b[32m\"NUEVA ECIJA\"\u001b[39m,\n",
       "  \u001b[32m\"NUEVAVIZCAYA\"\u001b[39m,      \u001b[32m\"OCCIDENTAL MINDORO\"\u001b[39m, \u001b[32m\"ORIENTAL MINDORO\"\u001b[39m,\n",
       "  \u001b[32m\"PALAWAN\"\u001b[39m,           \u001b[32m\"PAMPANGA\"\u001b[39m,           \u001b[32m\"PANGASINAN\"\u001b[39m,\n",
       "  \u001b[32m\"QUEZON\"\u001b[39m,            \u001b[32m\"QUIRINO\"\u001b[39m,            \u001b[32m\"RIZAL\"\u001b[39m,\n",
       "  \u001b[32m\"ROMBLON\"\u001b[39m,           \u001b[32m\"SAMAR\"\u001b[39m,              \u001b[32m\"SARANGANI\"\u001b[39m,\n",
       "  \u001b[32m\"SGA\"\u001b[39m,               \u001b[32m\"SIQUIJOR\"\u001b[39m,           \u001b[32m\"SORSOGON\"\u001b[39m,\n",
       "  \u001b[32m\"SOUTH COTABATO\"\u001b[39m,    \u001b[32m\"SOUTHERN LEYTE\"\u001b[39m,     \u001b[32m\"SULTAN KUDARAT\"\u001b[39m,\n",
       "  \u001b[32m\"SULU\"\u001b[39m,              \u001b[32m\"SURIGAO DEL NORTE\"\u001b[39m,  \u001b[32m\"SURIGAO DEL SUR\"\u001b[39m,\n",
       "  \u001b[32m\"TARLAC\"\u001b[39m,            \u001b[32m\"TAWITAWI\"\u001b[39m,           \u001b[32m\"ZAMBALES\"\u001b[39m,\n",
       "  \u001b[32m\"ZAMBOANGADELNORTE\"\u001b[39m, \u001b[32m\"ZAMBOANGADELSUR\"\u001b[39m,    \u001b[32m\"ZAMBOANGASIBUGAY\"\u001b[39m\n",
       "]"
      ]
     },
     "execution_count": 165,
     "metadata": {},
     "output_type": "execute_result"
    }
   ],
   "source": [
    "let dataFrameProvinces = dataFrameMapping\n",
    "  .select(pl.col('province').unique().sort().str.replaceAll('_', ' '))\n",
    "  .toSeries()\n",
    "  .toArray()\n",
    "  \n",
    "dataFrameProvinces"
   ]
  },
  {
   "cell_type": "code",
   "execution_count": 166,
   "metadata": {},
   "outputs": [],
   "source": [
    "// Here's a list of all provinces from the PSGC, with NCR and SGA added at the end.\n",
    "let PSGCprovinceswithcoding = pl.readCSV('./psgc/provinces.csv', {\n",
    "  dtypes: { province: pl.DataType.String, code: pl.DataType.String },\n",
    "})\n",
    "\n",
    "let PSGCprovinces = PSGCprovinceswithcoding[\"province\"].toArray()"
   ]
  },
  {
   "cell_type": "code",
   "execution_count": 167,
   "metadata": {},
   "outputs": [
    {
     "data": {
      "text/plain": [
       "\u001b[32m\"84 84\"\u001b[39m"
      ]
     },
     "execution_count": 167,
     "metadata": {},
     "output_type": "execute_result"
    }
   ],
   "source": [
    "`${PSGCprovinces.length} ${dataFrameProvinces.length}`"
   ]
  },
  {
   "cell_type": "code",
   "execution_count": 168,
   "metadata": {},
   "outputs": [],
   "source": [
    "import { distance, closest } from 'https://deno.land/x/fastest_levenshtein/mod.ts'"
   ]
  },
  {
   "cell_type": "code",
   "execution_count": null,
   "metadata": {},
   "outputs": [
    {
     "data": {
      "text/csv": [
       "old,new,score\n",
       "MAGUINDANAONORTE,MAGUINDANAO DEL NORTE,5.0\n",
       "DAVAODELNORTE,DAVAO DEL NORTE,2.0\n",
       "DAVAODELSUR,DAVAO DEL SUR,2.0\n",
       "DAVAODEORO,DAVAO DE ORO,2.0\n",
       "LANAODELSUR,LANAO DEL SUR,2.0\n",
       "MAGUINDANAODELSUR,MAGUINDANAO DEL SUR,2.0\n",
       "ZAMBOANGADELNORTE,ZAMBOANGA DEL NORTE,2.0\n",
       "ZAMBOANGADELSUR,ZAMBOANGA DEL SUR,2.0\n",
       "DAVAOOCCIDENTAL,DAVAO OCCIDENTAL,1.0\n",
       "DAVAOORIENTAL,DAVAO ORIENTAL,1.0\n",
       "ILOCOSNORTE,ILOCOS NORTE,1.0\n",
       "LAUNION,LA UNION,1.0\n",
       "NUEVAVIZCAYA,NUEVA VIZCAYA,1.0\n",
       "TAWITAWI,TAWI-TAWI,1.0\n",
       "ZAMBOANGASIBUGAY,ZAMBOANGA SIBUGAY,1.0\n",
       "ABRA,ABRA,0.0\n",
       "AGUSAN DEL NORTE,AGUSAN DEL NORTE,0.0\n",
       "AGUSAN DEL SUR,AGUSAN DEL SUR,0.0\n",
       "AKLAN,AKLAN,0.0\n",
       "ALBAY,ALBAY,0.0\n",
       "ANTIQUE,ANTIQUE,0.0\n",
       "APAYAO,APAYAO,0.0\n",
       "AURORA,AURORA,0.0\n",
       "BASILAN,BASILAN,0.0\n",
       "BATAAN,BATAAN,0.0\n",
       "BATANES,BATANES,0.0\n",
       "BATANGAS,BATANGAS,0.0\n",
       "BENGUET,BENGUET,0.0\n",
       "BILIRAN,BILIRAN,0.0\n",
       "BOHOL,BOHOL,0.0\n",
       "BUKIDNON,BUKIDNON,0.0\n",
       "BULACAN,BULACAN,0.0\n",
       "CAGAYAN,CAGAYAN,0.0\n",
       "CAMARINES NORTE,CAMARINES NORTE,0.0\n",
       "CAMARINES SUR,CAMARINES SUR,0.0\n",
       "CAMIGUIN,CAMIGUIN,0.0\n",
       "CAPIZ,CAPIZ,0.0\n",
       "CATANDUANES,CATANDUANES,0.0\n",
       "CAVITE,CAVITE,0.0\n",
       "CEBU,CEBU,0.0\n",
       "COTABATO,COTABATO,0.0\n",
       "DINAGAT ISLANDS,DINAGAT ISLANDS,0.0\n",
       "EASTERN SAMAR,EASTERN SAMAR,0.0\n",
       "GUIMARAS,GUIMARAS,0.0\n",
       "IFUGAO,IFUGAO,0.0\n",
       "ILOCOS SUR,ILOCOS SUR,0.0\n",
       "ILOILO,ILOILO,0.0\n",
       "ISABELA,ISABELA,0.0\n",
       "KALINGA,KALINGA,0.0\n",
       "LAGUNA,LAGUNA,0.0\n",
       "LDN,LANAO DEL NORTE,0.0\n",
       "LEYTE,LEYTE,0.0\n",
       "MARINDUQUE,MARINDUQUE,0.0\n",
       "MASBATE,MASBATE,0.0\n",
       "MISOR,MISAMIS ORIENTAL,0.0\n",
       "MISSOCC,MISAMIS OCCIDENTAL,0.0\n",
       "MPROVINCE,MOUNTAIN PROVINCE,0.0\n",
       "NCR,NATIONAL CAPITAL REGION (NCR) - METRO MANILA,0.0\n",
       "NEGROS OCCIDENTAL,NEGROS OCCIDENTAL,0.0\n",
       "NEGROS ORIENTAL,NEGROS ORIENTAL,0.0\n",
       "NORTHERN SAMAR,NORTHERN SAMAR,0.0\n",
       "NUEVA ECIJA,NUEVA ECIJA,0.0\n",
       "OCCIDENTAL MINDORO,OCCIDENTAL MINDORO,0.0\n",
       "ORIENTAL MINDORO,ORIENTAL MINDORO,0.0\n",
       "PALAWAN,PALAWAN,0.0\n",
       "PAMPANGA,PAMPANGA,0.0\n",
       "PANGASINAN,PANGASINAN,0.0\n",
       "QUEZON,QUEZON,0.0\n",
       "QUIRINO,QUIRINO,0.0\n",
       "RIZAL,RIZAL,0.0\n",
       "ROMBLON,ROMBLON,0.0\n",
       "SAMAR,SAMAR,0.0\n",
       "SARANGANI,SARANGANI,0.0\n",
       "SGA,SPECIAL GEOGRAPHIC AREA,0.0\n",
       "SIQUIJOR,SIQUIJOR,0.0\n",
       "SORSOGON,SORSOGON,0.0\n",
       "SOUTH COTABATO,SOUTH COTABATO,0.0\n",
       "SOUTHERN LEYTE,SOUTHERN LEYTE,0.0\n",
       "SULTAN KUDARAT,SULTAN KUDARAT,0.0\n",
       "SULU,SULU,0.0\n",
       "SURIGAO DEL NORTE,SURIGAO DEL NORTE,0.0\n",
       "SURIGAO DEL SUR,SURIGAO DEL SUR,0.0\n",
       "TARLAC,TARLAC,0.0\n",
       "ZAMBALES,ZAMBALES,0.0\n"
      ]
     },
     "metadata": {},
     "output_type": "display_data"
    }
   ],
   "source": [
    "let provinceCorrections = {\n",
    "  \"LDN\": \"LANAO DEL NORTE\",\n",
    "  \"MISOR\": \"MISAMIS ORIENTAL\",\n",
    "  \"MISSOCC\": \"MISAMIS OCCIDENTAL\",\n",
    "  \"MPROVINCE\": \"MOUNTAIN PROVINCE\",\n",
    "  \"NCR\": \"NATIONAL CAPITAL REGION (NCR) - METRO MANILA\",\n",
    "  \"SGA\": \"SPECIAL GEOGRAPHIC AREA\",\n",
    "}\n",
    "\n",
    "let dataFrameBetterProvinces = new pl.DataFrame({\n",
    "  old: dataFrameProvinces,\n",
    "  new: dataFrameProvinces.map((province) => {\n",
    "    if (provinceCorrections[province]) {\n",
    "      return provinceCorrections[province]\n",
    "    } else {\n",
    "      return closest(\n",
    "        province,\n",
    "        pl.Series(PSGCprovinces).str.toUpperCase().toArray()\n",
    "      )\n",
    "    }\n",
    "  }),\n",
    "  score: dataFrameProvinces.map((province) => {\n",
    "    if (provinceCorrections[province]) {\n",
    "      return -1\n",
    "    } else {\n",
    "      return distance(province, closest(\n",
    "        province,\n",
    "        pl.Series(PSGCprovinces).str.toUpperCase().toArray()\n",
    "      ))\n",
    "    }\n",
    "  }),\n",
    "})\n",
    "\n",
    "await Deno.jupyter.display({\"text/csv\": dataFrameBetterProvinces.sort(\"score\", true).writeCSV().toString()}, {raw: \"true\"})"
   ]
  },
  {
   "cell_type": "code",
   "execution_count": 170,
   "metadata": {},
   "outputs": [
    {
     "data": {
      "text/plain": [
       "\u001b[33m84\u001b[39m"
      ]
     },
     "execution_count": 170,
     "metadata": {},
     "output_type": "execute_result"
    }
   ],
   "source": [
    "dataFrameBetterProvinces\n",
    "  .select(pl.col('new').unique().sort())\n",
    "  .toSeries()\n",
    "  .toArray().length"
   ]
  },
  {
   "cell_type": "code",
   "execution_count": 171,
   "metadata": {},
   "outputs": [],
   "source": [
    "// Here's a list of all cities and municipalities with their corresponding code. I have added old names to the end of the list with the same code as their new ones so that there are more chances to match.\n",
    "let PSGCcitymuniwithcoding = pl.readCSV('./psgc/citiesMunicipalities.csv', {\n",
    "  dtypes: { cityMunicipality: pl.DataType.String, code: pl.DataType.String },\n",
    "})"
   ]
  },
  {
   "cell_type": "code",
   "execution_count": 172,
   "metadata": {},
   "outputs": [
    {
     "data": {
      "application/vnd.dataresource+json": {
       "data": [
        {
         "cityMunicipality": "BANGUED",
         "identifier": "BFT_CAR.ABRA.BANGUED",
         "newProvince": "ABRA",
         "province": "ABRA",
         "provinceCode": "14001"
        },
        {
         "cityMunicipality": "BOLINEY",
         "identifier": "BFT_CAR.ABRA.BOLINEY",
         "newProvince": "ABRA",
         "province": "ABRA",
         "provinceCode": "14001"
        },
        {
         "cityMunicipality": "BUCAY",
         "identifier": "BFT_CAR.ABRA.BUCAY",
         "newProvince": "ABRA",
         "province": "ABRA",
         "provinceCode": "14001"
        },
        {
         "cityMunicipality": "BUCLOC",
         "identifier": "BFT_CAR.ABRA.BUCLOC",
         "newProvince": "ABRA",
         "province": "ABRA",
         "provinceCode": "14001"
        },
        {
         "cityMunicipality": "DAGUIOMAN",
         "identifier": "BFT_CAR.ABRA.DAGUIOMAN",
         "newProvince": "ABRA",
         "province": "ABRA",
         "provinceCode": "14001"
        },
        {
         "cityMunicipality": "DANGLAS",
         "identifier": "BFT_CAR.ABRA.DANGLAS",
         "newProvince": "ABRA",
         "province": "ABRA",
         "provinceCode": "14001"
        },
        {
         "cityMunicipality": "DOLORES",
         "identifier": "BFT_CAR.ABRA.DOLORES",
         "newProvince": "ABRA",
         "province": "ABRA",
         "provinceCode": "14001"
        },
        {
         "cityMunicipality": "LACUB",
         "identifier": "BFT_CAR.ABRA.LACUB",
         "newProvince": "ABRA",
         "province": "ABRA",
         "provinceCode": "14001"
        },
        {
         "cityMunicipality": "LAGANGILANG",
         "identifier": "BFT_CAR.ABRA.LAGANGILANG",
         "newProvince": "ABRA",
         "province": "ABRA",
         "provinceCode": "14001"
        },
        {
         "cityMunicipality": "LAGAYAN",
         "identifier": "BFT_CAR.ABRA.LAGAYAN",
         "newProvince": "ABRA",
         "province": "ABRA",
         "provinceCode": "14001"
        },
        {
         "cityMunicipality": "LANGIDEN",
         "identifier": "BFT_CAR.ABRA.LANGIDEN",
         "newProvince": "ABRA",
         "province": "ABRA",
         "provinceCode": "14001"
        },
        {
         "cityMunicipality": "LAPAZ",
         "identifier": "BFT_CAR.ABRA.LAPAZ",
         "newProvince": "ABRA",
         "province": "ABRA",
         "provinceCode": "14001"
        },
        {
         "cityMunicipality": "LICUANBAAY",
         "identifier": "BFT_CAR.ABRA.LICUANBAAY",
         "newProvince": "ABRA",
         "province": "ABRA",
         "provinceCode": "14001"
        },
        {
         "cityMunicipality": "LUBA",
         "identifier": "BFT_CAR.ABRA.LUBA",
         "newProvince": "ABRA",
         "province": "ABRA",
         "provinceCode": "14001"
        },
        {
         "cityMunicipality": "MALIBCONG",
         "identifier": "BFT_CAR.ABRA.MALIBCONG",
         "newProvince": "ABRA",
         "province": "ABRA",
         "provinceCode": "14001"
        },
        {
         "cityMunicipality": "MANABO",
         "identifier": "BFT_CAR.ABRA.MANABO",
         "newProvince": "ABRA",
         "province": "ABRA",
         "provinceCode": "14001"
        },
        {
         "cityMunicipality": "PEnARRUBIA",
         "identifier": "BFT_CAR.ABRA.PEnARRUBIA",
         "newProvince": "ABRA",
         "province": "ABRA",
         "provinceCode": "14001"
        },
        {
         "cityMunicipality": "PIDIGAN",
         "identifier": "BFT_CAR.ABRA.PIDIGAN",
         "newProvince": "ABRA",
         "province": "ABRA",
         "provinceCode": "14001"
        },
        {
         "cityMunicipality": "PILAR",
         "identifier": "BFT_CAR.ABRA.PILAR",
         "newProvince": "ABRA",
         "province": "ABRA",
         "provinceCode": "14001"
        },
        {
         "cityMunicipality": "SALLAPADAN",
         "identifier": "BFT_CAR.ABRA.SALLAPADAN",
         "newProvince": "ABRA",
         "province": "ABRA",
         "provinceCode": "14001"
        },
        {
         "cityMunicipality": "SANISIDRO",
         "identifier": "BFT_CAR.ABRA.SANISIDRO",
         "newProvince": "ABRA",
         "province": "ABRA",
         "provinceCode": "14001"
        },
        {
         "cityMunicipality": "SANJUAN",
         "identifier": "BFT_CAR.ABRA.SANJUAN",
         "newProvince": "ABRA",
         "province": "ABRA",
         "provinceCode": "14001"
        },
        {
         "cityMunicipality": "SANQUINTIN",
         "identifier": "BFT_CAR.ABRA.SANQUINTIN",
         "newProvince": "ABRA",
         "province": "ABRA",
         "provinceCode": "14001"
        },
        {
         "cityMunicipality": "TAYUM",
         "identifier": "BFT_CAR.ABRA.TAYUM",
         "newProvince": "ABRA",
         "province": "ABRA",
         "provinceCode": "14001"
        },
        {
         "cityMunicipality": "TINEG",
         "identifier": "BFT_CAR.ABRA.TINEG",
         "newProvince": "ABRA",
         "province": "ABRA",
         "provinceCode": "14001"
        },
        {
         "cityMunicipality": "TUBO",
         "identifier": "BFT_CAR.ABRA.TUBO",
         "newProvince": "ABRA",
         "province": "ABRA",
         "provinceCode": "14001"
        },
        {
         "cityMunicipality": "VILLAVICIOSA",
         "identifier": "BFT_CAR.ABRA.VILLAVICIOSA",
         "newProvince": "ABRA",
         "province": "ABRA",
         "provinceCode": "14001"
        },
        {
         "cityMunicipality": "BUENAVISTA",
         "identifier": "BFT_R13.AGUSAN_DEL_NORTE.BUENAVISTA",
         "newProvince": "AGUSAN DEL NORTE",
         "province": "AGUSAN DEL NORTE",
         "provinceCode": "16002"
        },
        {
         "cityMunicipality": "CARMEN",
         "identifier": "BFT_R13.AGUSAN_DEL_NORTE.CARMEN",
         "newProvince": "AGUSAN DEL NORTE",
         "province": "AGUSAN DEL NORTE",
         "provinceCode": "16002"
        },
        {
         "cityMunicipality": "CITY OF BUTUAN",
         "identifier": "BFT_R13.AGUSAN_DEL_NORTE.CITY_OF_BUTUAN",
         "newProvince": "AGUSAN DEL NORTE",
         "province": "AGUSAN DEL NORTE",
         "provinceCode": "16002"
        },
        {
         "cityMunicipality": "CITY OF CABADBARAN",
         "identifier": "BFT_R13.AGUSAN_DEL_NORTE.CITY_OF_CABADBARAN",
         "newProvince": "AGUSAN DEL NORTE",
         "province": "AGUSAN DEL NORTE",
         "provinceCode": "16002"
        },
        {
         "cityMunicipality": "JABONGA",
         "identifier": "BFT_R13.AGUSAN_DEL_NORTE.JABONGA",
         "newProvince": "AGUSAN DEL NORTE",
         "province": "AGUSAN DEL NORTE",
         "provinceCode": "16002"
        },
        {
         "cityMunicipality": "KITCHARAO",
         "identifier": "BFT_R13.AGUSAN_DEL_NORTE.KITCHARAO",
         "newProvince": "AGUSAN DEL NORTE",
         "province": "AGUSAN DEL NORTE",
         "provinceCode": "16002"
        },
        {
         "cityMunicipality": "LAS NIEVES",
         "identifier": "BFT_R13.AGUSAN_DEL_NORTE.LAS_NIEVES",
         "newProvince": "AGUSAN DEL NORTE",
         "province": "AGUSAN DEL NORTE",
         "provinceCode": "16002"
        },
        {
         "cityMunicipality": "MAGALLANES",
         "identifier": "BFT_R13.AGUSAN_DEL_NORTE.MAGALLANES",
         "newProvince": "AGUSAN DEL NORTE",
         "province": "AGUSAN DEL NORTE",
         "provinceCode": "16002"
        },
        {
         "cityMunicipality": "NASIPIT",
         "identifier": "BFT_R13.AGUSAN_DEL_NORTE.NASIPIT",
         "newProvince": "AGUSAN DEL NORTE",
         "province": "AGUSAN DEL NORTE",
         "provinceCode": "16002"
        },
        {
         "cityMunicipality": "REMEDIOS T ROMUALDEZ",
         "identifier": "BFT_R13.AGUSAN_DEL_NORTE.REMEDIOS_T_ROMUALDEZ",
         "newProvince": "AGUSAN DEL NORTE",
         "province": "AGUSAN DEL NORTE",
         "provinceCode": "16002"
        },
        {
         "cityMunicipality": "SANTIAGO",
         "identifier": "BFT_R13.AGUSAN_DEL_NORTE.SANTIAGO",
         "newProvince": "AGUSAN DEL NORTE",
         "province": "AGUSAN DEL NORTE",
         "provinceCode": "16002"
        },
        {
         "cityMunicipality": "TUBAY",
         "identifier": "BFT_R13.AGUSAN_DEL_NORTE.TUBAY",
         "newProvince": "AGUSAN DEL NORTE",
         "province": "AGUSAN DEL NORTE",
         "provinceCode": "16002"
        },
        {
         "cityMunicipality": "BUNAWAN",
         "identifier": "BFT_R13.AGUSAN_DEL_SUR.BUNAWAN",
         "newProvince": "AGUSAN DEL SUR",
         "province": "AGUSAN DEL SUR",
         "provinceCode": "16003"
        },
        {
         "cityMunicipality": "CITY OF BAYUGAN",
         "identifier": "BFT_R13.AGUSAN_DEL_SUR.CITY_OF_BAYUGAN",
         "newProvince": "AGUSAN DEL SUR",
         "province": "AGUSAN DEL SUR",
         "provinceCode": "16003"
        },
        {
         "cityMunicipality": "ESPERANZA",
         "identifier": "BFT_R13.AGUSAN_DEL_SUR.ESPERANZA",
         "newProvince": "AGUSAN DEL SUR",
         "province": "AGUSAN DEL SUR",
         "provinceCode": "16003"
        },
        {
         "cityMunicipality": "LA PAZ",
         "identifier": "BFT_R13.AGUSAN_DEL_SUR.LA_PAZ",
         "newProvince": "AGUSAN DEL SUR",
         "province": "AGUSAN DEL SUR",
         "provinceCode": "16003"
        },
        {
         "cityMunicipality": "LORETO",
         "identifier": "BFT_R13.AGUSAN_DEL_SUR.LORETO",
         "newProvince": "AGUSAN DEL SUR",
         "province": "AGUSAN DEL SUR",
         "provinceCode": "16003"
        },
        {
         "cityMunicipality": "PROSPERIDAD",
         "identifier": "BFT_R13.AGUSAN_DEL_SUR.PROSPERIDAD",
         "newProvince": "AGUSAN DEL SUR",
         "province": "AGUSAN DEL SUR",
         "provinceCode": "16003"
        },
        {
         "cityMunicipality": "ROSARIO",
         "identifier": "BFT_R13.AGUSAN_DEL_SUR.ROSARIO",
         "newProvince": "AGUSAN DEL SUR",
         "province": "AGUSAN DEL SUR",
         "provinceCode": "16003"
        },
        {
         "cityMunicipality": "SANTA JOSEFA",
         "identifier": "BFT_R13.AGUSAN_DEL_SUR.SANTA_JOSEFA",
         "newProvince": "AGUSAN DEL SUR",
         "province": "AGUSAN DEL SUR",
         "provinceCode": "16003"
        },
        {
         "cityMunicipality": "SAN FRANCISCO",
         "identifier": "BFT_R13.AGUSAN_DEL_SUR.SAN_FRANCISCO",
         "newProvince": "AGUSAN DEL SUR",
         "province": "AGUSAN DEL SUR",
         "provinceCode": "16003"
        },
        {
         "cityMunicipality": "SAN LUIS",
         "identifier": "BFT_R13.AGUSAN_DEL_SUR.SAN_LUIS",
         "newProvince": "AGUSAN DEL SUR",
         "province": "AGUSAN DEL SUR",
         "provinceCode": "16003"
        },
        {
         "cityMunicipality": "SIBAGAT",
         "identifier": "BFT_R13.AGUSAN_DEL_SUR.SIBAGAT",
         "newProvince": "AGUSAN DEL SUR",
         "province": "AGUSAN DEL SUR",
         "provinceCode": "16003"
        }
       ],
       "schema": {
        "fields": [
         {
          "name": "identifier",
          "type": "string"
         },
         {
          "name": "province",
          "type": "string"
         },
         {
          "name": "cityMunicipality",
          "type": "string"
         },
         {
          "name": "newProvince",
          "type": "string"
         },
         {
          "name": "provinceCode",
          "type": "string"
         }
        ]
       }
      },
      "text/html": [
       "<table><thead><tr><th>identifier</th><th>province</th><th>cityMunicipality</th><th>newProvince</th><th>provinceCode</th></tr></thead><tbody><tr><td>BFT_CAR.ABRA.BANGUED</td><td>ABRA</td><td>BANGUED</td><td>ABRA</td><td>14001</td></tr><tr><td>BFT_CAR.ABRA.BOLINEY</td><td>ABRA</td><td>BOLINEY</td><td>ABRA</td><td>14001</td></tr><tr><td>BFT_CAR.ABRA.BUCAY</td><td>ABRA</td><td>BUCAY</td><td>ABRA</td><td>14001</td></tr><tr><td>BFT_CAR.ABRA.BUCLOC</td><td>ABRA</td><td>BUCLOC</td><td>ABRA</td><td>14001</td></tr><tr><td>BFT_CAR.ABRA.DAGUIOMAN</td><td>ABRA</td><td>DAGUIOMAN</td><td>ABRA</td><td>14001</td></tr><tr><td>BFT_CAR.ABRA.DANGLAS</td><td>ABRA</td><td>DANGLAS</td><td>ABRA</td><td>14001</td></tr><tr><td>BFT_CAR.ABRA.DOLORES</td><td>ABRA</td><td>DOLORES</td><td>ABRA</td><td>14001</td></tr><tr><td>BFT_CAR.ABRA.LACUB</td><td>ABRA</td><td>LACUB</td><td>ABRA</td><td>14001</td></tr><tr><td>BFT_CAR.ABRA.LAGANGILANG</td><td>ABRA</td><td>LAGANGILANG</td><td>ABRA</td><td>14001</td></tr><tr><td>BFT_CAR.ABRA.LAGAYAN</td><td>ABRA</td><td>LAGAYAN</td><td>ABRA</td><td>14001</td></tr><tr><td>BFT_CAR.ABRA.LANGIDEN</td><td>ABRA</td><td>LANGIDEN</td><td>ABRA</td><td>14001</td></tr><tr><td>BFT_CAR.ABRA.LAPAZ</td><td>ABRA</td><td>LAPAZ</td><td>ABRA</td><td>14001</td></tr><tr><td>BFT_CAR.ABRA.LICUANBAAY</td><td>ABRA</td><td>LICUANBAAY</td><td>ABRA</td><td>14001</td></tr><tr><td>BFT_CAR.ABRA.LUBA</td><td>ABRA</td><td>LUBA</td><td>ABRA</td><td>14001</td></tr><tr><td>BFT_CAR.ABRA.MALIBCONG</td><td>ABRA</td><td>MALIBCONG</td><td>ABRA</td><td>14001</td></tr><tr><td>BFT_CAR.ABRA.MANABO</td><td>ABRA</td><td>MANABO</td><td>ABRA</td><td>14001</td></tr><tr><td>BFT_CAR.ABRA.PEnARRUBIA</td><td>ABRA</td><td>PEnARRUBIA</td><td>ABRA</td><td>14001</td></tr><tr><td>BFT_CAR.ABRA.PIDIGAN</td><td>ABRA</td><td>PIDIGAN</td><td>ABRA</td><td>14001</td></tr><tr><td>BFT_CAR.ABRA.PILAR</td><td>ABRA</td><td>PILAR</td><td>ABRA</td><td>14001</td></tr><tr><td>BFT_CAR.ABRA.SALLAPADAN</td><td>ABRA</td><td>SALLAPADAN</td><td>ABRA</td><td>14001</td></tr><tr><td>BFT_CAR.ABRA.SANISIDRO</td><td>ABRA</td><td>SANISIDRO</td><td>ABRA</td><td>14001</td></tr><tr><td>BFT_CAR.ABRA.SANJUAN</td><td>ABRA</td><td>SANJUAN</td><td>ABRA</td><td>14001</td></tr><tr><td>BFT_CAR.ABRA.SANQUINTIN</td><td>ABRA</td><td>SANQUINTIN</td><td>ABRA</td><td>14001</td></tr><tr><td>BFT_CAR.ABRA.TAYUM</td><td>ABRA</td><td>TAYUM</td><td>ABRA</td><td>14001</td></tr><tr><td>BFT_CAR.ABRA.TINEG</td><td>ABRA</td><td>TINEG</td><td>ABRA</td><td>14001</td></tr><tr><td>BFT_CAR.ABRA.TUBO</td><td>ABRA</td><td>TUBO</td><td>ABRA</td><td>14001</td></tr><tr><td>BFT_CAR.ABRA.VILLAVICIOSA</td><td>ABRA</td><td>VILLAVICIOSA</td><td>ABRA</td><td>14001</td></tr><tr><td>BFT_R13.AGUSAN_DEL_NORTE.BUENAVISTA</td><td>AGUSAN DEL NORTE</td><td>BUENAVISTA</td><td>AGUSAN DEL NORTE</td><td>16002</td></tr><tr><td>BFT_R13.AGUSAN_DEL_NORTE.CARMEN</td><td>AGUSAN DEL NORTE</td><td>CARMEN</td><td>AGUSAN DEL NORTE</td><td>16002</td></tr><tr><td>BFT_R13.AGUSAN_DEL_NORTE.CITY_OF_BUTUAN</td><td>AGUSAN DEL NORTE</td><td>CITY OF BUTUAN</td><td>AGUSAN DEL NORTE</td><td>16002</td></tr><tr><td>BFT_R13.AGUSAN_DEL_NORTE.CITY_OF_CABADBARAN</td><td>AGUSAN DEL NORTE</td><td>CITY OF CABADBARAN</td><td>AGUSAN DEL NORTE</td><td>16002</td></tr><tr><td>BFT_R13.AGUSAN_DEL_NORTE.JABONGA</td><td>AGUSAN DEL NORTE</td><td>JABONGA</td><td>AGUSAN DEL NORTE</td><td>16002</td></tr><tr><td>BFT_R13.AGUSAN_DEL_NORTE.KITCHARAO</td><td>AGUSAN DEL NORTE</td><td>KITCHARAO</td><td>AGUSAN DEL NORTE</td><td>16002</td></tr><tr><td>BFT_R13.AGUSAN_DEL_NORTE.LAS_NIEVES</td><td>AGUSAN DEL NORTE</td><td>LAS NIEVES</td><td>AGUSAN DEL NORTE</td><td>16002</td></tr><tr><td>BFT_R13.AGUSAN_DEL_NORTE.MAGALLANES</td><td>AGUSAN DEL NORTE</td><td>MAGALLANES</td><td>AGUSAN DEL NORTE</td><td>16002</td></tr><tr><td>BFT_R13.AGUSAN_DEL_NORTE.NASIPIT</td><td>AGUSAN DEL NORTE</td><td>NASIPIT</td><td>AGUSAN DEL NORTE</td><td>16002</td></tr><tr><td>BFT_R13.AGUSAN_DEL_NORTE.REMEDIOS_T_ROMUALDEZ</td><td>AGUSAN DEL NORTE</td><td>REMEDIOS T ROMUALDEZ</td><td>AGUSAN DEL NORTE</td><td>16002</td></tr><tr><td>BFT_R13.AGUSAN_DEL_NORTE.SANTIAGO</td><td>AGUSAN DEL NORTE</td><td>SANTIAGO</td><td>AGUSAN DEL NORTE</td><td>16002</td></tr><tr><td>BFT_R13.AGUSAN_DEL_NORTE.TUBAY</td><td>AGUSAN DEL NORTE</td><td>TUBAY</td><td>AGUSAN DEL NORTE</td><td>16002</td></tr><tr><td>BFT_R13.AGUSAN_DEL_SUR.BUNAWAN</td><td>AGUSAN DEL SUR</td><td>BUNAWAN</td><td>AGUSAN DEL SUR</td><td>16003</td></tr><tr><td>BFT_R13.AGUSAN_DEL_SUR.CITY_OF_BAYUGAN</td><td>AGUSAN DEL SUR</td><td>CITY OF BAYUGAN</td><td>AGUSAN DEL SUR</td><td>16003</td></tr><tr><td>BFT_R13.AGUSAN_DEL_SUR.ESPERANZA</td><td>AGUSAN DEL SUR</td><td>ESPERANZA</td><td>AGUSAN DEL SUR</td><td>16003</td></tr><tr><td>BFT_R13.AGUSAN_DEL_SUR.LA_PAZ</td><td>AGUSAN DEL SUR</td><td>LA PAZ</td><td>AGUSAN DEL SUR</td><td>16003</td></tr><tr><td>BFT_R13.AGUSAN_DEL_SUR.LORETO</td><td>AGUSAN DEL SUR</td><td>LORETO</td><td>AGUSAN DEL SUR</td><td>16003</td></tr><tr><td>BFT_R13.AGUSAN_DEL_SUR.PROSPERIDAD</td><td>AGUSAN DEL SUR</td><td>PROSPERIDAD</td><td>AGUSAN DEL SUR</td><td>16003</td></tr><tr><td>BFT_R13.AGUSAN_DEL_SUR.ROSARIO</td><td>AGUSAN DEL SUR</td><td>ROSARIO</td><td>AGUSAN DEL SUR</td><td>16003</td></tr><tr><td>BFT_R13.AGUSAN_DEL_SUR.SANTA_JOSEFA</td><td>AGUSAN DEL SUR</td><td>SANTA JOSEFA</td><td>AGUSAN DEL SUR</td><td>16003</td></tr><tr><td>BFT_R13.AGUSAN_DEL_SUR.SAN_FRANCISCO</td><td>AGUSAN DEL SUR</td><td>SAN FRANCISCO</td><td>AGUSAN DEL SUR</td><td>16003</td></tr><tr><td>BFT_R13.AGUSAN_DEL_SUR.SAN_LUIS</td><td>AGUSAN DEL SUR</td><td>SAN LUIS</td><td>AGUSAN DEL SUR</td><td>16003</td></tr><tr><td>BFT_R13.AGUSAN_DEL_SUR.SIBAGAT</td><td>AGUSAN DEL SUR</td><td>SIBAGAT</td><td>AGUSAN DEL SUR</td><td>16003</td></tr></tbody></table>"
      ]
     },
     "execution_count": 172,
     "metadata": {},
     "output_type": "execute_result"
    }
   ],
   "source": [
    "// We aggregate the original table with the better province and the province code.\n",
    "let joinBetterProvince = dataFrameMapping\n",
    "  .join(\n",
    "    dataFrameBetterProvinces.select(\n",
    "      pl.col('old').alias('province'),\n",
    "      pl.col('new').alias('newProvince')\n",
    "    ),\n",
    "    { on: 'province' }\n",
    "  )\n",
    "  .join(\n",
    "    PSGCprovinceswithcoding.select(\n",
    "      pl.col('province').alias('newProvince').str.toUpperCase(), \n",
    "      pl.col('code').alias('provinceCode')\n",
    "    ), \n",
    "    { on: 'newProvince'}\n",
    "  )\n",
    "\n",
    "  joinBetterProvince"
   ]
  },
  {
   "cell_type": "code",
   "execution_count": 177,
   "metadata": {},
   "outputs": [
    {
     "data": {
      "application/vnd.dataresource+json": {
       "data": [
        {
         "cityMunicipality": "CITY OF PASIG 1ST DIST",
         "newCityMunicipality": "CITY OF PASIG",
         "newProvince": "NATIONAL CAPITAL REGION (NCR) - METRO MANILA",
         "provinceCode": "138",
         "score": 9
        },
        {
         "cityMunicipality": "CITY OF PASIG 2ND DIST",
         "newCityMunicipality": "CITY OF PASIG",
         "newProvince": "NATIONAL CAPITAL REGION (NCR) - METRO MANILA",
         "provinceCode": "138",
         "score": 9
        },
        {
         "cityMunicipality": "CITY OF SAN JUAN 1ST DIST",
         "newCityMunicipality": "CITY OF SAN JUAN",
         "newProvince": "NATIONAL CAPITAL REGION (NCR) - METRO MANILA",
         "provinceCode": "138",
         "score": 9
        },
        {
         "cityMunicipality": "CITY OF SAN JUAN 2ND DIST",
         "newCityMunicipality": "CITY OF SAN JUAN",
         "newProvince": "NATIONAL CAPITAL REGION (NCR) - METRO MANILA",
         "provinceCode": "138",
         "score": 9
        },
        {
         "cityMunicipality": "CITY OF TAGUIG 1ST DIST",
         "newCityMunicipality": "CITY OF TAGUIG",
         "newProvince": "NATIONAL CAPITAL REGION (NCR) - METRO MANILA",
         "provinceCode": "138",
         "score": 9
        },
        {
         "cityMunicipality": "CITY OF TAGUIG 2ND DIST",
         "newCityMunicipality": "CITY OF TAGUIG",
         "newProvince": "NATIONAL CAPITAL REGION (NCR) - METRO MANILA",
         "provinceCode": "138",
         "score": 9
        },
        {
         "cityMunicipality": "CITY OF VALENZUELA 1ST DIST",
         "newCityMunicipality": "CITY OF VALENZUELA",
         "newProvince": "NATIONAL CAPITAL REGION (NCR) - METRO MANILA",
         "provinceCode": "138",
         "score": 9
        },
        {
         "cityMunicipality": "CITY OF VALENZUELA 2ND DIST",
         "newCityMunicipality": "CITY OF VALENZUELA",
         "newProvince": "NATIONAL CAPITAL REGION (NCR) - METRO MANILA",
         "provinceCode": "138",
         "score": 9
        },
        {
         "cityMunicipality": "PASAY CITY 1ST DIST",
         "newCityMunicipality": "PASAY CITY",
         "newProvince": "NATIONAL CAPITAL REGION (NCR) - METRO MANILA",
         "provinceCode": "138",
         "score": 9
        },
        {
         "cityMunicipality": "PASAY CITY 2ND DIST",
         "newCityMunicipality": "PASAY CITY",
         "newProvince": "NATIONAL CAPITAL REGION (NCR) - METRO MANILA",
         "provinceCode": "138",
         "score": 9
        },
        {
         "cityMunicipality": "PATEROS 1ST DIST",
         "newCityMunicipality": "PATEROS",
         "newProvince": "NATIONAL CAPITAL REGION (NCR) - METRO MANILA",
         "provinceCode": "138",
         "score": 9
        },
        {
         "cityMunicipality": "PATEROS 2ND DIST",
         "newCityMunicipality": "PATEROS",
         "newProvince": "NATIONAL CAPITAL REGION (NCR) - METRO MANILA",
         "provinceCode": "138",
         "score": 9
        },
        {
         "cityMunicipality": "QUEZON CITY 1ST DIST",
         "newCityMunicipality": "QUEZON CITY",
         "newProvince": "NATIONAL CAPITAL REGION (NCR) - METRO MANILA",
         "provinceCode": "138",
         "score": 9
        },
        {
         "cityMunicipality": "QUEZON CITY 2ND DIST",
         "newCityMunicipality": "QUEZON CITY",
         "newProvince": "NATIONAL CAPITAL REGION (NCR) - METRO MANILA",
         "provinceCode": "138",
         "score": 9
        },
        {
         "cityMunicipality": "QUEZON CITY 3RD DIST",
         "newCityMunicipality": "QUEZON CITY",
         "newProvince": "NATIONAL CAPITAL REGION (NCR) - METRO MANILA",
         "provinceCode": "138",
         "score": 9
        },
        {
         "cityMunicipality": "QUEZON CITY 4TH DIST",
         "newCityMunicipality": "QUEZON CITY",
         "newProvince": "NATIONAL CAPITAL REGION (NCR) - METRO MANILA",
         "provinceCode": "138",
         "score": 9
        },
        {
         "cityMunicipality": "QUEZON CITY 5TH DIST",
         "newCityMunicipality": "QUEZON CITY",
         "newProvince": "NATIONAL CAPITAL REGION (NCR) - METRO MANILA",
         "provinceCode": "138",
         "score": 9
        },
        {
         "cityMunicipality": "QUEZON CITY 6TH DIST",
         "newCityMunicipality": "QUEZON CITY",
         "newProvince": "NATIONAL CAPITAL REGION (NCR) - METRO MANILA",
         "provinceCode": "138",
         "score": 9
        },
        {
         "cityMunicipality": "CITY OF ANGELES",
         "newCityMunicipality": "CITY OF SAN FERNANDO",
         "newProvince": "PAMPANGA",
         "provinceCode": "03054",
         "score": 9
        },
        {
         "cityMunicipality": "CITY OF ANTIPOLO 1ST DIST",
         "newCityMunicipality": "CITY OF ANTIPOLO",
         "newProvince": "RIZAL",
         "provinceCode": "04058",
         "score": 9
        },
        {
         "cityMunicipality": "CITY OF ANTIPOLO 2ND DIST",
         "newCityMunicipality": "CITY OF ANTIPOLO",
         "newProvince": "RIZAL",
         "provinceCode": "04058",
         "score": 9
        },
        {
         "cityMunicipality": "CITY OF CALBAYOG 1ST DIST",
         "newCityMunicipality": "CITY OF CALBAYOG",
         "newProvince": "SAMAR",
         "provinceCode": "08060",
         "score": 9
        },
        {
         "cityMunicipality": "CITY OF CALBAYOG 2ND DIST",
         "newCityMunicipality": "CITY OF CALBAYOG",
         "newProvince": "SAMAR",
         "provinceCode": "08060",
         "score": 9
        },
        {
         "cityMunicipality": "LAMITAN CITY",
         "newCityMunicipality": "LANTAWAN",
         "newProvince": "BASILAN",
         "provinceCode": "19007",
         "score": 8
        },
        {
         "cityMunicipality": "OROQUIETACITY",
         "newCityMunicipality": "BONIFACIO",
         "newProvince": "MISAMIS OCCIDENTAL",
         "provinceCode": "10042",
         "score": 8
        },
        {
         "cityMunicipality": "OZAMISCITY",
         "newCityMunicipality": "BALIANGAO",
         "newProvince": "MISAMIS OCCIDENTAL",
         "provinceCode": "10042",
         "score": 8
        },
        {
         "cityMunicipality": "PAGADIANCITY",
         "newCityMunicipality": "LABANGAN",
         "newProvince": "ZAMBOANGA DEL SUR",
         "provinceCode": "09073",
         "score": 8
        },
        {
         "cityMunicipality": "CITY OF BUTUAN",
         "newCityMunicipality": "CITY OF CABADBARAN",
         "newProvince": "AGUSAN DEL NORTE",
         "provinceCode": "16002",
         "score": 7
        },
        {
         "cityMunicipality": "PANABOCITY",
         "newCityMunicipality": "ASUNCION",
         "newProvince": "DAVAO DEL NORTE",
         "provinceCode": "11023",
         "score": 7
        },
        {
         "cityMunicipality": "ILAGANCITY",
         "newCityMunicipality": "ALICIA",
         "newProvince": "ISABELA",
         "provinceCode": "02031",
         "score": 7
        },
        {
         "cityMunicipality": "SANTIAGOCITY",
         "newCityMunicipality": "SAN AGUSTIN",
         "newProvince": "ISABELA",
         "provinceCode": "02031",
         "score": 7
        },
        {
         "cityMunicipality": "ILIGANCITY",
         "newCityMunicipality": "LINAMON",
         "newProvince": "LANAO DEL NORTE",
         "provinceCode": "10035",
         "score": 7
        },
        {
         "cityMunicipality": "TANGUBCITY",
         "newCityMunicipality": "BONIFACIO",
         "newProvince": "MISAMIS OCCIDENTAL",
         "provinceCode": "10042",
         "score": 7
        },
        {
         "cityMunicipality": "CITY OF SAN JOSE",
         "newCityMunicipality": "CITY OF GAPAN",
         "newProvince": "NUEVA ECIJA",
         "provinceCode": "03049",
         "score": 7
        },
        {
         "cityMunicipality": "DAPITANCITY",
         "newCityMunicipality": "PIÑAN",
         "newProvince": "ZAMBOANGA DEL NORTE",
         "provinceCode": "09072",
         "score": 7
        },
        {
         "cityMunicipality": "DIPOLOGCITY",
         "newCityMunicipality": "LILOY",
         "newProvince": "ZAMBOANGA DEL NORTE",
         "provinceCode": "09072",
         "score": 7
        },
        {
         "cityMunicipality": "BAGUIOCITY",
         "newCityMunicipality": "BUGUIAS",
         "newProvince": "BENGUET",
         "provinceCode": "14011",
         "score": 6
        },
        {
         "cityMunicipality": "LAPULAPUCITY",
         "newCityMunicipality": "DANAO CITY",
         "newProvince": "CEBU",
         "provinceCode": "07022",
         "score": 6
        },
        {
         "cityMunicipality": "TALISAYCITY",
         "newCityMunicipality": "DANAO CITY",
         "newProvince": "CEBU",
         "provinceCode": "07022",
         "score": 6
        },
        {
         "cityMunicipality": "TOLEDOCITY",
         "newCityMunicipality": "DANAO CITY",
         "newProvince": "CEBU",
         "provinceCode": "07022",
         "score": 6
        },
        {
         "cityMunicipality": "DIGOSCITY",
         "newCityMunicipality": "HAGONOY",
         "newProvince": "DAVAO DEL SUR",
         "provinceCode": "11024",
         "score": 6
        },
        {
         "cityMunicipality": "CITY OF ILOILO",
         "newCityMunicipality": "CITY OF PASSI",
         "newProvince": "ILOILO",
         "provinceCode": "06030",
         "score": 6
        },
        {
         "cityMunicipality": "CAUAYANCITY",
         "newCityMunicipality": "CABAGAN",
         "newProvince": "ISABELA",
         "provinceCode": "02031",
         "score": 6
        },
        {
         "cityMunicipality": "MARAWICITY",
         "newCityMunicipality": "MARANTAO",
         "newProvince": "LANAO DEL SUR",
         "provinceCode": "19036",
         "score": 6
        },
        {
         "cityMunicipality": "GINGOOGCITY",
         "newCityMunicipality": "KINOGUITAN",
         "newProvince": "MISAMIS ORIENTAL",
         "provinceCode": "10043",
         "score": 6
        },
        {
         "cityMunicipality": "CITY OF LUCENA",
         "newCityMunicipality": "CITY OF TAYABAS",
         "newProvince": "QUEZON",
         "provinceCode": "04056",
         "score": 6
        },
        {
         "cityMunicipality": "BOGOCITY",
         "newCityMunicipality": "DANAO CITY",
         "newProvince": "CEBU",
         "provinceCode": "07022",
         "score": 5
        },
        {
         "cityMunicipality": "CARCARCITY",
         "newCityMunicipality": "DANAO CITY",
         "newProvince": "CEBU",
         "provinceCode": "07022",
         "score": 5
        },
        {
         "cityMunicipality": "TAGUMCITY",
         "newCityMunicipality": "ASUNCION",
         "newProvince": "DAVAO DEL NORTE",
         "provinceCode": "11023",
         "score": 5
        },
        {
         "cityMunicipality": "MATICITY",
         "newCityMunicipality": "MANAY",
         "newProvince": "DAVAO ORIENTAL",
         "provinceCode": "11025",
         "score": 5
        }
       ],
       "schema": {
        "fields": [
         {
          "name": "newProvince",
          "type": "string"
         },
         {
          "name": "provinceCode",
          "type": "string"
         },
         {
          "name": "cityMunicipality",
          "type": "string"
         },
         {
          "name": "newCityMunicipality",
          "type": "string"
         },
         {
          "name": "score",
          "type": "number"
         }
        ]
       }
      },
      "text/html": [
       "<table><thead><tr><th>newProvince</th><th>provinceCode</th><th>cityMunicipality</th><th>newCityMunicipality</th><th>score</th></tr></thead><tbody><tr><td>NATIONAL CAPITAL REGION (NCR) - METRO MANILA</td><td>138</td><td>CITY OF PASIG 1ST DIST</td><td>CITY OF PASIG</td><td>9</td></tr><tr><td>NATIONAL CAPITAL REGION (NCR) - METRO MANILA</td><td>138</td><td>CITY OF PASIG 2ND DIST</td><td>CITY OF PASIG</td><td>9</td></tr><tr><td>NATIONAL CAPITAL REGION (NCR) - METRO MANILA</td><td>138</td><td>CITY OF SAN JUAN 1ST DIST</td><td>CITY OF SAN JUAN</td><td>9</td></tr><tr><td>NATIONAL CAPITAL REGION (NCR) - METRO MANILA</td><td>138</td><td>CITY OF SAN JUAN 2ND DIST</td><td>CITY OF SAN JUAN</td><td>9</td></tr><tr><td>NATIONAL CAPITAL REGION (NCR) - METRO MANILA</td><td>138</td><td>CITY OF TAGUIG 1ST DIST</td><td>CITY OF TAGUIG</td><td>9</td></tr><tr><td>NATIONAL CAPITAL REGION (NCR) - METRO MANILA</td><td>138</td><td>CITY OF TAGUIG 2ND DIST</td><td>CITY OF TAGUIG</td><td>9</td></tr><tr><td>NATIONAL CAPITAL REGION (NCR) - METRO MANILA</td><td>138</td><td>CITY OF VALENZUELA 1ST DIST</td><td>CITY OF VALENZUELA</td><td>9</td></tr><tr><td>NATIONAL CAPITAL REGION (NCR) - METRO MANILA</td><td>138</td><td>CITY OF VALENZUELA 2ND DIST</td><td>CITY OF VALENZUELA</td><td>9</td></tr><tr><td>NATIONAL CAPITAL REGION (NCR) - METRO MANILA</td><td>138</td><td>PASAY CITY 1ST DIST</td><td>PASAY CITY</td><td>9</td></tr><tr><td>NATIONAL CAPITAL REGION (NCR) - METRO MANILA</td><td>138</td><td>PASAY CITY 2ND DIST</td><td>PASAY CITY</td><td>9</td></tr><tr><td>NATIONAL CAPITAL REGION (NCR) - METRO MANILA</td><td>138</td><td>PATEROS 1ST DIST</td><td>PATEROS</td><td>9</td></tr><tr><td>NATIONAL CAPITAL REGION (NCR) - METRO MANILA</td><td>138</td><td>PATEROS 2ND DIST</td><td>PATEROS</td><td>9</td></tr><tr><td>NATIONAL CAPITAL REGION (NCR) - METRO MANILA</td><td>138</td><td>QUEZON CITY 1ST DIST</td><td>QUEZON CITY</td><td>9</td></tr><tr><td>NATIONAL CAPITAL REGION (NCR) - METRO MANILA</td><td>138</td><td>QUEZON CITY 2ND DIST</td><td>QUEZON CITY</td><td>9</td></tr><tr><td>NATIONAL CAPITAL REGION (NCR) - METRO MANILA</td><td>138</td><td>QUEZON CITY 3RD DIST</td><td>QUEZON CITY</td><td>9</td></tr><tr><td>NATIONAL CAPITAL REGION (NCR) - METRO MANILA</td><td>138</td><td>QUEZON CITY 4TH DIST</td><td>QUEZON CITY</td><td>9</td></tr><tr><td>NATIONAL CAPITAL REGION (NCR) - METRO MANILA</td><td>138</td><td>QUEZON CITY 5TH DIST</td><td>QUEZON CITY</td><td>9</td></tr><tr><td>NATIONAL CAPITAL REGION (NCR) - METRO MANILA</td><td>138</td><td>QUEZON CITY 6TH DIST</td><td>QUEZON CITY</td><td>9</td></tr><tr><td>PAMPANGA</td><td>03054</td><td>CITY OF ANGELES</td><td>CITY OF SAN FERNANDO</td><td>9</td></tr><tr><td>RIZAL</td><td>04058</td><td>CITY OF ANTIPOLO 1ST DIST</td><td>CITY OF ANTIPOLO</td><td>9</td></tr><tr><td>RIZAL</td><td>04058</td><td>CITY OF ANTIPOLO 2ND DIST</td><td>CITY OF ANTIPOLO</td><td>9</td></tr><tr><td>SAMAR</td><td>08060</td><td>CITY OF CALBAYOG 1ST DIST</td><td>CITY OF CALBAYOG</td><td>9</td></tr><tr><td>SAMAR</td><td>08060</td><td>CITY OF CALBAYOG 2ND DIST</td><td>CITY OF CALBAYOG</td><td>9</td></tr><tr><td>BASILAN</td><td>19007</td><td>LAMITAN CITY</td><td>LANTAWAN</td><td>8</td></tr><tr><td>MISAMIS OCCIDENTAL</td><td>10042</td><td>OROQUIETACITY</td><td>BONIFACIO</td><td>8</td></tr><tr><td>MISAMIS OCCIDENTAL</td><td>10042</td><td>OZAMISCITY</td><td>BALIANGAO</td><td>8</td></tr><tr><td>ZAMBOANGA DEL SUR</td><td>09073</td><td>PAGADIANCITY</td><td>LABANGAN</td><td>8</td></tr><tr><td>AGUSAN DEL NORTE</td><td>16002</td><td>CITY OF BUTUAN</td><td>CITY OF CABADBARAN</td><td>7</td></tr><tr><td>DAVAO DEL NORTE</td><td>11023</td><td>PANABOCITY</td><td>ASUNCION</td><td>7</td></tr><tr><td>ISABELA</td><td>02031</td><td>ILAGANCITY</td><td>ALICIA</td><td>7</td></tr><tr><td>ISABELA</td><td>02031</td><td>SANTIAGOCITY</td><td>SAN AGUSTIN</td><td>7</td></tr><tr><td>LANAO DEL NORTE</td><td>10035</td><td>ILIGANCITY</td><td>LINAMON</td><td>7</td></tr><tr><td>MISAMIS OCCIDENTAL</td><td>10042</td><td>TANGUBCITY</td><td>BONIFACIO</td><td>7</td></tr><tr><td>NUEVA ECIJA</td><td>03049</td><td>CITY OF SAN JOSE</td><td>CITY OF GAPAN</td><td>7</td></tr><tr><td>ZAMBOANGA DEL NORTE</td><td>09072</td><td>DAPITANCITY</td><td>PIÑAN</td><td>7</td></tr><tr><td>ZAMBOANGA DEL NORTE</td><td>09072</td><td>DIPOLOGCITY</td><td>LILOY</td><td>7</td></tr><tr><td>BENGUET</td><td>14011</td><td>BAGUIOCITY</td><td>BUGUIAS</td><td>6</td></tr><tr><td>CEBU</td><td>07022</td><td>LAPULAPUCITY</td><td>DANAO CITY</td><td>6</td></tr><tr><td>CEBU</td><td>07022</td><td>TALISAYCITY</td><td>DANAO CITY</td><td>6</td></tr><tr><td>CEBU</td><td>07022</td><td>TOLEDOCITY</td><td>DANAO CITY</td><td>6</td></tr><tr><td>DAVAO DEL SUR</td><td>11024</td><td>DIGOSCITY</td><td>HAGONOY</td><td>6</td></tr><tr><td>ILOILO</td><td>06030</td><td>CITY OF ILOILO</td><td>CITY OF PASSI</td><td>6</td></tr><tr><td>ISABELA</td><td>02031</td><td>CAUAYANCITY</td><td>CABAGAN</td><td>6</td></tr><tr><td>LANAO DEL SUR</td><td>19036</td><td>MARAWICITY</td><td>MARANTAO</td><td>6</td></tr><tr><td>MISAMIS ORIENTAL</td><td>10043</td><td>GINGOOGCITY</td><td>KINOGUITAN</td><td>6</td></tr><tr><td>QUEZON</td><td>04056</td><td>CITY OF LUCENA</td><td>CITY OF TAYABAS</td><td>6</td></tr><tr><td>CEBU</td><td>07022</td><td>BOGOCITY</td><td>DANAO CITY</td><td>5</td></tr><tr><td>CEBU</td><td>07022</td><td>CARCARCITY</td><td>DANAO CITY</td><td>5</td></tr><tr><td>DAVAO DEL NORTE</td><td>11023</td><td>TAGUMCITY</td><td>ASUNCION</td><td>5</td></tr><tr><td>DAVAO ORIENTAL</td><td>11025</td><td>MATICITY</td><td>MANAY</td><td>5</td></tr></tbody></table>"
      ]
     },
     "execution_count": 177,
     "metadata": {},
     "output_type": "execute_result"
    },
    {
     "ename": "",
     "evalue": "",
     "output_type": "error",
     "traceback": [
      "\u001b[1;31mThe Kernel crashed while executing code in the current cell or a previous cell. \n",
      "\u001b[1;31mPlease review the code in the cell(s) to identify a possible cause of the failure. \n",
      "\u001b[1;31mClick <a href='https://aka.ms/vscodeJupyterKernelCrash'>here</a> for more info. \n",
      "\u001b[1;31mView Jupyter <a href='command:jupyter.viewOutput'>log</a> for further details."
     ]
    }
   ],
   "source": [
    "// It's 3:31 AM and my code is getting unreadable. I will take a break here and resume later.\n",
    "// What this does is it tries to create a new table where the cities and municipalities are matched to the PSGC list, and the probability score is computed such that the ones with the most distant scores can be fixed manually.\n",
    "\n",
    "let cityMuniCorrections = {\n",
    "  'SAMALISLAND KAPUTIAN DIST':\n",
    "    'ISLAND GARDEN CITY OF SAMAL (KAPUTIAN DISTRICT)',\n",
    "  'SAMALISLAND BABAK DIST': 'ISLAND GARDEN CITY OF SAMAL (BABAK DISTRICT)',\n",
    "  'SAMALISLAND SAMAL DIST': 'ISLAND GARDEN CITY OF SAMAL (SAMAL DISTRICT)',\n",
    "  'CITY OF PUERTO PRINCESA': 'CITY OF PUERTO PRINCESA',\n",
    "  CEBUCITY1STDISTRICT: 'CITY OF CEBU (1ST DISTRICT)',\n",
    "  CEBUCITY2NDDISTRICT: 'CITY OF CEBU (2ND DISTRICT)',\n",
    "  'COTABATO CITY 1ST': 'CITY OF COTABATO (1ST DISTRICT)',\n",
    "  'COTABATO CITY 2ND': 'CITY OF COTABATO (2ND DISTRICT)',\n",
    "  'CITY OF GENERAL SANTOS': 'CITY OF GENERAL SANTOS',\n",
    "  'CITY OF OLONGAPO': 'CITY OF OLONGAPO',\n",
    "  'DAVAOCITY 1ST DIST': 'CITY OF DAVAO (1ST DISTRICT)',\n",
    "  'DAVAOCITY 2ND DIST': 'CITY OF DAVAO (2ND DISTRICT)',\n",
    "  'DAVAOCITY 3RD DIST': 'CITY OF DAVAO (3RD DISTRICT)',\n",
    "  'CITY OF SORSOGON BACON DIST': 'CITY OF SORSOGON (BACON DISTRICT)',\n",
    "  'CITY OF SORSOGON EAST DIST': 'CITY OF SORSOGON (EAST DISTRICT)',\n",
    "  'CITY OF SORSOGON WEST DIST': 'CITY OF SORSOGON (WEST DISTRICT)',\n",
    "  'ZAMBOANGACITY 1ST': 'CITY OF ZAMBOANGA (1ST DISTRICT)',\n",
    "  'ZAMBOANGACITY 2ND': 'CITY OF ZAMBOANGA (2ND DISTRICT)',\n",
    "  'ISABELA CITY': 'CITY OF ISABELA',\n",
    "  MALAYBALAYCITY: 'CITY OF MALAYBALAY',\n",
    "  'CITY OF MABALACAT': 'CITY OF MABALACAT',\n",
    "  'TAGBILARAN CITY': 'CITY OF TAGBILARAN',\n",
    "  VALENCIACITY: 'CITY OF VALENCIA',\n",
    "  'CITY OF BACOOR 1ST DIST': 'CITY OF BACOOR (1ST DISTRICT)',\n",
    "  'CITY OF BACOOR 2ND DIST': 'CITY OF BACOOR (2ND DISTRICT)',\n",
    "  'CDOCITY 1ST': 'CITY OF CAGAYAN DE ORO (1ST DISTRICT)',\n",
    "  'CDOCITY 2ND': 'CITY OF CAGAYAN DE ORO (2ND DISTRICT)',\n",
    "  ELSALVADORCITY: 'CITY OF EL SALVADOR',\n",
    "  'CITY OF CALOOCAN 1ST DIST': 'CITY OF CALOOCAN (1ST DISTRICT)',\n",
    "  'CITY OF CALOOCAN 2ND DIST': 'CITY OF CALOOCAN (2ND DISTRICT)',\n",
    "  'CITY OF CALOOCAN 3RD DIST': 'CITY OF CALOOCAN (3RD DISTRICT)',\n",
    "  'CITY OF LAS PIÑAS 1ST DIST': 'CITY OF LAS PIÑAS (1ST DISTRICT)',\n",
    "  'CITY OF LAS PIÑAS 2ND DIST': 'CITY OF LAS PIÑAS (2ND DISTRICT)',\n",
    "  'CITY OF MAKATI 1ST DIST': 'CITY OF MAKATI (1ST DISTRICT)',\n",
    "  'CITY OF MAKATI 2ND DIST': 'CITY OF MAKATI (2ND DISTRICT)',\n",
    "  'CITY OF MALABON 1ST DIST': 'CITY OF MALABON (1ST DISTRICT)',\n",
    "  'CITY OF MALABON 2ND DIST': 'CITY OF MALABON (2ND DISTRICT)',\n",
    "  'CITY OF MANDALUYONG 1ST DIST': 'CITY OF MANDALUYONG (1ST DISTRICT)',\n",
    "  'CITY OF MANDALUYONG 2ND DIST': 'CITY OF MANDALUYONG (2ND DISTRICT)',\n",
    "  'CITY OF MANILA 1ST DIST': 'CITY OF MANILA (1ST DISTRICT)',\n",
    "  'CITY OF MANILA 2ND DIST': 'CITY OF MANILA (2ND DISTRICT)',\n",
    "  'CITY OF MANILA 3RD DIST': 'CITY OF MANILA (3RD DISTRICT)',\n",
    "  'CITY OF MANILA 4TH DIST': 'CITY OF MANILA (4TH DISTRICT)',\n",
    "  'CITY OF MANILA 5TH DIST': 'CITY OF MANILA (5TH DISTRICT)',\n",
    "  'CITY OF MANILA 6TH DIST': 'CITY OF MANILA (6TH DISTRICT)',\n",
    "  'CITY OF MARIKINA 1ST DIST': 'CITY OF MARIKINA (1ST DISTRICT)',\n",
    "  'CITY OF MARIKINA 2ND DIST': 'CITY OF MARIKINA (2ND DISTRICT)',\n",
    "  'CITY OF MUNTINLUPA 1ST DIST': 'CITY OF MUNTINLUPA (1ST DISTRICT)',\n",
    "  'CITY OF MUNTINLUPA 2ND DIST': 'CITY OF MUNTINLUPA (2ND DISTRICT)',\n",
    "  'CITY OF NAVOTAS 1ST DIST': 'CITY OF NAVOTAS (1ST DISTRICT)',\n",
    "  'CITY OF NAVOTAS 2ND DIST': 'CITY OF NAVOTAS (2ND DISTRICT)',\n",
    "  'CITY OF PARAÑAQUE 1ST DIST': 'CITY OF PARAÑAQUE (1ST DISTRICT)',\n",
    "  'CITY OF PARAÑAQUE 2ND DIST': 'CITY OF PARAÑAQUE (2ND DISTRICT)',\n",
    "  'CITY OF PASIG 1ST DIST': 'CITY OF PASIG (1ST DISTRICT)',\n",
    "  'CITY OF PASIG 2ND DIST': 'CITY OF PASIG (2ND DISTRICT)',\n",
    "  'CITY OF SAN JUAN 1ST DIST': 'CITY OF SAN JUAN (1ST DISTRICT)',\n",
    "  'CITY OF SAN JUAN 2ND DIST': 'CITY OF SAN JUAN (2ND DISTRICT)',\n",
    "  'CITY OF TAGUIG 1ST DIST': 'CITY OF TAGUIG (1ST DISTRICT)',\n",
    "  'CITY OF TAGUIG 2ND DIST': 'CITY OF TAGUIG (2ND DISTRICT)',\n",
    "  'CITY OF VALENZUELA 1ST DIST': 'CITY OF VALENZUELA (1ST DISTRICT)',\n",
    "  'CITY OF VALENZUELA 2ND DIST': 'CITY OF VALENZUELA (2ND DISTRICT)',\n",
    "  'CITY OF PASAY 1ST DIST': 'CITY OF PASAY (1ST DISTRICT)',\n",
    "  'CITY OF PASAY 2ND DIST': 'CITY OF PASAY (2ND DISTRICT)',\n",
    "  'PATEROS 1ST DIST': 'PATEROS (1ST DISTRICT)',\n",
    "  'PATEROS 2ND DIST': 'PATEROS (2ND DISTRICT)',\n",
    "  'QUEZON CITY 1ST DIST': 'QUEZON CITY (1ST DISTRICT)',\n",
    "  'QUEZON CITY 2ND DIST': 'QUEZON CITY (2ND DISTRICT)',\n",
    "  'QUEZON CITY 3RD DIST': 'QUEZON CITY (3RD DISTRICT)',\n",
    "  'QUEZON CITY 4TH DIST': 'QUEZON CITY (4TH DISTRICT)',\n",
    "  'QUEZON CITY 5TH DIST': 'QUEZON CITY (5TH DISTRICT)',\n",
    "  'QUEZON CITY 6TH DIST': 'QUEZON CITY (6TH DISTRICT)',\n",
    "}\n",
    "\n",
    "joinBetterProvince\n",
    "  .select('newProvince', 'provinceCode', 'cityMunicipality')\n",
    "  .join(\n",
    "    new pl.DataFrame({\n",
    "      cityMunicipality: joinBetterProvince['cityMunicipality'],\n",
    "      newCityMunicipality: joinBetterProvince['cityMunicipality']\n",
    "        .toArray()\n",
    "        .map((cityMuni: string, index: number) => {\n",
    "          if (cityMuniCorrections[cityMuni]) {\n",
    "            return cityMuniCorrections[cityMuni]\n",
    "          } else {\n",
    "            return closest(\n",
    "              cityMuni,\n",
    "              PSGCcitymuniwithcoding.filter(\n",
    "                pl\n",
    "                  .col('code')\n",
    "                  .str.contains(\n",
    "                    RegExp(`^${joinBetterProvince['provinceCode'].get(index)}`)\n",
    "                  )\n",
    "              )\n",
    "                ['cityMunicipality'].str.toUpperCase()\n",
    "                .toArray()\n",
    "            )\n",
    "          }\n",
    "          \n",
    "        }),\n",
    "      score: joinBetterProvince['cityMunicipality']\n",
    "        .toArray()\n",
    "        .map((cityMuni: string, index: number) => {\n",
    "          if (cityMuniCorrections[cityMuni]) {\n",
    "            return -1\n",
    "          } else {            \n",
    "            return distance(\n",
    "              cityMuni,\n",
    "              closest(\n",
    "                cityMuni,\n",
    "                PSGCcitymuniwithcoding.filter(\n",
    "                  pl\n",
    "                  .col('code')\n",
    "                  .str.contains(\n",
    "                    RegExp(`^${joinBetterProvince['provinceCode'].get(index)}`)\n",
    "                  )\n",
    "                )\n",
    "                ['cityMunicipality'].str.toUpperCase()\n",
    "                .toArray()\n",
    "              )\n",
    "            )\n",
    "          }\n",
    "        }),\n",
    "    }),\n",
    "    { on: 'cityMunicipality' }\n",
    "  )\n",
    "  .sort('score', true)\n"
   ]
  },
  {
   "cell_type": "code",
   "execution_count": 130,
   "metadata": {},
   "outputs": [
    {
     "data": {
      "text/plain": [
       "\u001b[32m\"1731500000\"\u001b[39m"
      ]
     },
     "execution_count": 130,
     "metadata": {},
     "output_type": "execute_result"
    }
   ],
   "source": [
    "// PSGCcitymuniwithcoding['cityMunicipality'].str.toUpperCase().toArray()\n",
    "\n",
    "// PSGCcitymuniwithcoding.filter(pl.col('code').str.contains(RegExp(`^${14001}`)))['cityMunicipality'].str.toUpperCase().toArray()\n",
    "\n",
    "PSGCcitymuniwithcoding['code'].get(0)\n"
   ]
  },
  {
   "cell_type": "markdown",
   "metadata": {},
   "source": []
  }
 ],
 "metadata": {
  "kernelspec": {
   "display_name": "Deno",
   "language": "typescript",
   "name": "deno"
  },
  "language_info": {
   "codemirror_mode": "typescript",
   "file_extension": ".ts",
   "mimetype": "text/x.typescript",
   "name": "typescript",
   "nbconvert_exporter": "script",
   "pygments_lexer": "typescript",
   "version": "5.6.2"
  }
 },
 "nbformat": 4,
 "nbformat_minor": 2
}
