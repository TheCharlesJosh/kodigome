{
 "cells": [
  {
   "cell_type": "markdown",
   "metadata": {},
   "source": [
    "# Extracting the Candidates from the Markdown files\n",
    "\n",
    "The next step is to get the candidates from the Markdown files. The assumption is that PymuPDF4LLM has extracted all candidates properly in Markdown tables. With this, we will remove all non-Markdown table data and process them based on header-matching, and sort them by the order."
   ]
  },
  {
   "cell_type": "code",
   "execution_count": 100,
   "metadata": {},
   "outputs": [],
   "source": [
    "import fs from \"node:fs\"\n",
    "import path from \"node:path\""
   ]
  },
  {
   "cell_type": "code",
   "execution_count": 30,
   "metadata": {},
   "outputs": [],
   "source": [
    "let data = fs.readFileSync('./OV.md', 'utf8');"
   ]
  },
  {
   "cell_type": "code",
   "execution_count": 65,
   "metadata": {},
   "outputs": [],
   "source": [
    "function sortCandidate (a: string, b: string) {\n",
    "  const firstNumber = Number(a.match(/^(\\d+)\\.?/)[1])\n",
    "  const secondNumber = Number(b.match(/^(\\d+)\\.?/)[1])\n",
    "  return firstNumber - secondNumber\n",
    "}"
   ]
  },
  {
   "cell_type": "code",
   "execution_count": 82,
   "metadata": {},
   "outputs": [],
   "source": [
    "function extractCandidates (data: string) {\n",
    "  let list = {}\n",
    "  let currentPosition = \"\"\n",
    "  \n",
    "  // Go through the file line-by line\n",
    "  \n",
    "  for (const line of data.split('\\n')) {\n",
    "    // const line = (data as string).split('\\n')[91]\n",
    "    const tableMatcherRegex = /\\|((\\\\\\|)|[^\\r\\n\\|])+/g                   // Capture cells starting with the pipe character, except if the pipe character is escaped\n",
    "    let row = line.match(tableMatcherRegex)\n",
    "    \n",
    "    if (!row || row.length === 0) continue                               // If there are no matches, this is not a table, skip the line\n",
    "    \n",
    "    row = row\n",
    "    .map(match => match.replace(/^\\|/, \"\").trim())                     // Remove the starting pipe character, and remove extra whitespaces\n",
    "    .filter(match => match)                                            // And remove empty strings\n",
    "    \n",
    "    if (row[0].replaceAll('-', '') === '') continue                      // If the first cell is a header separator (multiple dashes), skip the line\n",
    "    \n",
    "    const isHeader = /^[^\\d].*Vote for (\\d+)/.exec(row[0])               // If the first cell does not start with a number, it's probably a header\n",
    "    \n",
    "    if (isHeader) {\n",
    "      const position = row[0].split(\"/\")[0].trim()                       // Get the position\n",
    "      const voteFor = Number(isHeader[1])                                        // Count the \"vote for\"\n",
    "      \n",
    "      if (currentPosition !== position) {                                // If the position is different from the current position being worked on,\n",
    "        currentPosition = position\n",
    "        list[position] = {                                               // Write a blank position property\n",
    "          candidates: [],\n",
    "          header: row[0],\n",
    "          voteFor\n",
    "        }\n",
    "      }\n",
    "      continue                                                            // And skip the rest\n",
    "    } else {                                                              // Else, append the candidates to the row.\n",
    "      list[currentPosition].candidates =\n",
    "      list[currentPosition].candidates.concat(row)\n",
    "    }\n",
    "  }\n",
    "  \n",
    "  // When the list is complete, sort and count the candidates\n",
    "  \n",
    "  for (const position of Object.keys(list)) {\n",
    "    list[position].candidates = list[position].candidates.sort(sortCandidate)\n",
    "    list[position].count = list[position].candidates.length\n",
    "  }\n",
    "\n",
    "  return list\n",
    "}\n"
   ]
  },
  {
   "cell_type": "code",
   "execution_count": 83,
   "metadata": {},
   "outputs": [
    {
     "data": {
      "text/json": [
       "{\n",
       "  \"SENATOR\": {\n",
       "    \"candidates\": [\n",
       "      \"1. ABALOS, BENHUR (PFP)\",\n",
       "      \"2. ADONIS, JEROME (MKBYN)\",\n",
       "      \"3. AMAD, WILSON (IND)\",\n",
       "      \"4. ANDAMO, NARS ALYN (MKBYN)\",\n",
       "      \"5. AQUINO, BAM (KNP)\",\n",
       "      \"6. ARAMBULO, RONNEL (MKBYN)\",\n",
       "      \"7. ARELLANO, ERNESTO (KTPNAN)\",\n",
       "      \"8. BALLON, ROBERTO (IND)\",\n",
       "      \"9. BINAY, ABBY (NPC)\",\n",
       "      \"10. BONDOC, JIMMY (PDPLBN)\",\n",
       "      \"11. BONG REVILLA,RAMON, JR.(LAKAS)\",\n",
       "      \"12. BOSITA, COLONEL (IND)\",\n",
       "      \"13. BROSAS, ARLENE (MKBYN)\",\n",
       "      \"14. CABONEGRO, ROY (DPP)\",\n",
       "      \"15. CAPUYAN, ALLEN (PPP)\",\n",
       "      \"16. CASIÑO, TEDDY (MKBYN)\",\n",
       "      \"17. CASTRO, TEACHER FRANCE (MKBYN)\",\n",
       "      \"18. CAYETANO, PIA (NP)\",\n",
       "      \"19. D'ANGELO, DAVID (BUNYOG)\",\n",
       "      \"20. DE ALBAN,ATTORNEY ANGELO (IND)\",\n",
       "      \"21. DE GUZMAN, KA LEODY (PLM)\",\n",
       "      \"22. DELA ROSA, BATO (PDPLBN)\",\n",
       "      \"23. DORINGO, NANAY MIMI (MKBYN)\",\n",
       "      \"24. ESCOBAL, ARNEL (PM)\",\n",
       "      \"25. ESPIRITU, LUKE (PLM)\",\n",
       "      \"26. FLORANDA, MODY PISTON (MKBYN)\",\n",
       "      \"27. GAMBOA, MARC LOUIE (IND)\",\n",
       "      \"28. GO, BONG GO (PDPLBN)\",\n",
       "      \"29. GONZALES, NORBERTO (PDSP)\",\n",
       "      \"30. HINLO, JAYVEE (PDPLBN)\",\n",
       "      \"31. HONASAN, GRINGO (RP)\",\n",
       "      \"32. JOSE, RELLY JR. (KBL)\",\n",
       "      \"33. LACSON, PING (IND)\",\n",
       "      \"34. LAMBINO, RAUL (PDPLBN)\",\n",
       "      \"35. LAPID, LITO (NPC)\",\n",
       "      \"36. LEE, MANOY WILBERT (AKSYON)\",\n",
       "      \"37. LIDASAN, AMIRAH (MKBYN)\",\n",
       "      \"38. MARCOLETA, RODANTE (IND)\",\n",
       "      \"39. MARCOS, IMEE R. (NP)\",\n",
       "      \"40. MARQUEZ, NORMAN (IND)\",\n",
       "      \"41. MARTINEZ, ERIC (IND)\",\n",
       "      \"42. MATA, DOC MARITES (IND)\",\n",
       "      \"43. MATULA, ATTY. SONNY (WPP)\",\n",
       "      \"44. MAZA, LIZA (MKBYN)\",\n",
       "      \"45. MENDOZA, HEIDI (IND)\",\n",
       "      \"46. MONTEMAYOR, JOEY (IND)\",\n",
       "      \"47. OLIVAR, JOSE JESSIE (IND)\",\n",
       "      \"48. ONG, DOC WILLIE (AKSYON)\",\n",
       "      \"49. PACQUIAO, MANNY PACMAN (PFP)\",\n",
       "      \"50. PANGILINAN, KIKO (LP)\",\n",
       "      \"51. QUERUBIN, ARIEL PORFIRIO (NP)\",\n",
       "      \"52. QUIBOLOY, APOLLO (IND)\",\n",
       "      \"53. RAMOS, DANILO (MKBYN)\",\n",
       "      \"54. REVILLAME, WILLIE WIL (IND)\",\n",
       "      \"55. RODRIGUEZ, ATTY. VIC (IND)\",\n",
       "      \"56. SAHIDULLA, NUR-ANA (IND)\",\n",
       "      \"57. SALVADOR, PHILLIP IPE (PDPLBN)\",\n",
       "      \"58. SINGSON, MANONG CHAVIT (IND)\",\n",
       "      \"59. SOTTO, TITO (NPC)\",\n",
       "      \"60. TAPADO, MICHAEL BONGBONG (PM)\",\n",
       "      \"61. TOLENTINO, FRANCIS TOL (PFP)\",\n",
       "      \"62. TULFO, BEN BITAG (IND)\",\n",
       "      \"63. TULFO, ERWIN (LAKAS)\",\n",
       "      \"64. VALBUENA, MAR MANIBELA (IND)\",\n",
       "      \"65. VERCELES, LEANDRO (IND)\",\n",
       "      \"66. VILLAR, CAMILLE (NP)\"\n",
       "    ],\n",
       "    \"header\": \"SENATOR / Vote for 12 (Bumoto ng hindi hihigit sa 12)\",\n",
       "    \"voteFor\": 12,\n",
       "    \"count\": 66\n",
       "  },\n",
       "  \"PARTY LIST\": {\n",
       "    \"candidates\": [\n",
       "      \"1 4PS\",\n",
       "      \"2 PPP\",\n",
       "      \"3 FPJ PANDAY BAYANIHAN\",\n",
       "      \"4 KABATAAN\",\n",
       "      \"5 DUTERTE YOUTH\",\n",
       "      \"6 ML\",\n",
       "      \"7 PBBM\",\n",
       "      \"8 P3PWD\",\n",
       "      \"9 MURANG KURYENTE\",\n",
       "      \"10 BICOL SARO\",\n",
       "      \"11 IPATUPAD\",\n",
       "      \"12 PATROL\",\n",
       "      \"13 JUAN PINOY\",\n",
       "      \"14 ARTE\",\n",
       "      \"15 WIFI\",\n",
       "      \"16 MAAGAP\",\n",
       "      \"17 UNITED SENIOR CITIZENS\",\n",
       "      \"18 EPANAW SAMBAYANAN\",\n",
       "      \"19 AKO PADAYON\",\n",
       "      \"20 TUCP\",\n",
       "      \"21 ACT TEACHERS\",\n",
       "      \"22 1PACMAN\",\n",
       "      \"23 TGP\",\n",
       "      \"24 DUMPER PTDA\",\n",
       "      \"25 ANAKALUSUGAN\",\n",
       "      \"26 AKSYON DAPAT\",\n",
       "      \"27 BHW\",\n",
       "      \"28 SULONG DIGNIDAD\",\n",
       "      \"29 BATANG QUIAPO\",\n",
       "      \"30 PBA\",\n",
       "      \"31 GILAS\",\n",
       "      \"32 AKO ILOCANO AKO\",\n",
       "      \"33 PAMILYANG MAGSASAKA\",\n",
       "      \"34 CLICK PARTY\",\n",
       "      \"35 ABANTE BISDAK\",\n",
       "      \"36 MANILA TEACHERS\",\n",
       "      \"37 PAMANA\",\n",
       "      \"38 NANAY\",\n",
       "      \"39 KM NGAYON NA\",\n",
       "      \"40 BABAE AKO\",\n",
       "      \"41 ARISE\",\n",
       "      \"42 MAGDALO\",\n",
       "      \"43 APEC\",\n",
       "      \"44 MAGBUBUKID\",\n",
       "      \"45 SSS-GSIS PENSYONADO\",\n",
       "      \"46 GABRIELA\",\n",
       "      \"47 TINGOG\",\n",
       "      \"48 APAT-DAPAT\",\n",
       "      \"49 AHON MAHIRAP\",\n",
       "      \"50 UGB\",\n",
       "      \"51 AKBAYAN\",\n",
       "      \"52 AGIMAT\",\n",
       "      \"53 PHILRECA\",\n",
       "      \"54 KAPUSO PM\",\n",
       "      \"55 ILOCANO DEFENDERS\",\n",
       "      \"56 1-RIDER PARTY-LIST\",\n",
       "      \"57 TICTOK\",\n",
       "      \"59 BAYAN MUNA\",\n",
       "      \"60 ANG PROBINSIYANO\",\n",
       "      \"61 BANAT\",\n",
       "      \"62 SBP\",\n",
       "      \"63 BUHAY\",\n",
       "      \"64 TULUNGAN TAYO\",\n",
       "      \"65 SAGIP\",\n",
       "      \"66 BTS BAYANING TSUPER\",\n",
       "      \"67 VENDORS\",\n",
       "      \"68 ACT-CIS\",\n",
       "      \"69 AKTIBONG KAAGAPAY\",\n",
       "      \"70 ASENSO PINOY\",\n",
       "      \"71 SOLO PARENTS\",\n",
       "      \"72 ANG KOMADRONA\",\n",
       "      \"73 PROMDI\",\n",
       "      \"74 PUSONG PINOY\",\n",
       "      \"75 KUSUG TAUSUG\",\n",
       "      \"76 DAMAYANG FILIPINO\",\n",
       "      \"77 MPBL\",\n",
       "      \"78 ANGAT\",\n",
       "      \"79 KALINGA\",\n",
       "      \"80 BOSES PARTY-LIST\",\n",
       "      \"81 ARANGKADA PILIPINO\",\n",
       "      \"82 AANGAT TAYO\",\n",
       "      \"83 OFW\",\n",
       "      \"84 BIDA KATAGUMPAY\",\n",
       "      \"85 KAMANGGAGAWA\",\n",
       "      \"86 BFF\",\n",
       "      \"87 BUNYOG\",\n",
       "      \"88 AGRI\",\n",
       "      \"89 SENIOR CITIZENS\",\n",
       "      \"90 4K\",\n",
       "      \"91 PBP\",\n",
       "      \"92 ONE COOP\",\n",
       "      \"93 CIBAC\",\n",
       "      \"94 BH - BAGONG HENERASYON\",\n",
       "      \"95 1AGILA\",\n",
       "      \"96 EDUAKSYON\",\n",
       "      \"97 ANG TINIG NG SENIORS\",\n",
       "      \"98 BG PARTY-LIST\",\n",
       "      \"99 PINOY AKO\",\n",
       "      \"100 H.E.L.P. PILIPINAS\",\n",
       "      \"101 HEALTH WORKERS\",\n",
       "      \"102 PEOPLE'S CHAMP\",\n",
       "      \"103 AA-KASOSYO PARTY\",\n",
       "      \"104 SOLID NORTH PARTY\",\n",
       "      \"105 ABAMIN\",\n",
       "      \"106 TRABAHO\",\n",
       "      \"107 ANGKASANGGA\",\n",
       "      \"108 TODA AKSYON\",\n",
       "      \"109 TURISMO\",\n",
       "      \"110 ABONO\",\n",
       "      \"111 ASAP NA\",\n",
       "      \"112 LINGAP\",\n",
       "      \"113 UNITED FRONTLINERS\",\n",
       "      \"114 KASAMBAHAY\",\n",
       "      \"115 TUTOK TO WIN\",\n",
       "      \"116 AKO OFW\",\n",
       "      \"117 AGAP\",\n",
       "      \"118 1TAHANAN\",\n",
       "      \"119 COOP-NATCCO\",\n",
       "      \"120 KABAYAN\",\n",
       "      \"121 1MUNTI\",\n",
       "      \"122 PINOY WORKERS\",\n",
       "      \"123 API PARTY\",\n",
       "      \"124 AKO BISAYA\",\n",
       "      \"125 KAMALAYAN\",\n",
       "      \"126 AKO TANOD\",\n",
       "      \"127 PROBINSYANO AKO\",\n",
       "      \"128 KABABAIHAN\",\n",
       "      \"129 RAM\",\n",
       "      \"130 ALONA\",\n",
       "      \"131 AKO BICOL\",\n",
       "      \"132 GP (GALING SA PUSO)\",\n",
       "      \"133 KAUNLAD PINOY\",\n",
       "      \"134 ABP\",\n",
       "      \"135 CWS\",\n",
       "      \"136 LPGMA\",\n",
       "      \"137 A TEACHER\",\n",
       "      \"138 SWERTE\",\n",
       "      \"139 GABAY\",\n",
       "      \"140 MALASAKIT@BAYANIHAN\",\n",
       "      \"141 AKAY NI SOL\",\n",
       "      \"142 LUNAS\",\n",
       "      \"143 DIWA\",\n",
       "      \"144 PINUNO\",\n",
       "      \"145 PAMILYA MUNA\",\n",
       "      \"146 BAGONG PILIPINAS\",\n",
       "      \"147 HUGPONG FEDERAL\",\n",
       "      \"148 TUPAD\",\n",
       "      \"149 LAANG KAWAL\",\n",
       "      \"150 PAMILYA KO\",\n",
       "      \"151 BBM\",\n",
       "      \"152 HEAL PH\",\n",
       "      \"153 ABANG LINGKOD\",\n",
       "      \"154 MAGSASAKA\",\n",
       "      \"155 MAHARLIKA\",\n",
       "      \"156 USWAG ILONGGO\"\n",
       "    ],\n",
       "    \"header\": \"PARTY LIST / Vote for 1 (Bumoto ng hindi hihigit sa 1)\",\n",
       "    \"voteFor\": 1,\n",
       "    \"count\": 155\n",
       "  }\n",
       "}"
      ]
     },
     "metadata": {},
     "output_type": "display_data"
    }
   ],
   "source": [
    "let national = extractCandidates(data)\n",
    "await Deno.jupyter.display(\n",
    "  { 'text/json': JSON.stringify(national, null, 2) },\n",
    "  { raw: true }\n",
    ")\n"
   ]
  },
  {
   "cell_type": "markdown",
   "metadata": {},
   "source": [
    "Nice. We finished the basic extraction of candidates to a list.\n",
    "\n",
    "The partylist count does not match as the [Wage Hike partylist withdrew their candidacy](https://www.inquirer.net/423441/party-list-group-wage-hike-withdraws-bid-from-2025-polls/) last December 17, 2024.\n",
    "\n",
    "We now write the results down into `.json` files."
   ]
  },
  {
   "cell_type": "code",
   "execution_count": 84,
   "metadata": {},
   "outputs": [],
   "source": [
    "fs.writeFileSync('./national.json', JSON.stringify(national))"
   ]
  },
  {
   "cell_type": "markdown",
   "metadata": {},
   "source": [
    "Let's test the code to include local candidates and add some sanity checks with it."
   ]
  },
  {
   "cell_type": "code",
   "execution_count": 87,
   "metadata": {},
   "outputs": [],
   "source": [
    "let akbarRaw = fs.readFileSync('./md/BARMM.BASILAN.AKBAR.md', 'utf8')"
   ]
  },
  {
   "cell_type": "code",
   "execution_count": 98,
   "metadata": {},
   "outputs": [],
   "source": [
    "function extractCandidatesWithSanityChecks (data: string) {\n",
    "  let nationalPosts = Object.keys(national)\n",
    "  let list = extractCandidates(data);\n",
    "\n",
    "  if (nationalPosts.some(nationalPost => list[nationalPost].count !== national[nationalPost].count)) {\n",
    "    throw new Error(`${nationalPost} count mismatch`)\n",
    "  }\n",
    "  \n",
    "  for (const nationalPost of nationalPosts) {\n",
    "    delete list[nationalPost]\n",
    "  }\n",
    "\n",
    "  return list\n",
    "}"
   ]
  },
  {
   "cell_type": "code",
   "execution_count": 99,
   "metadata": {},
   "outputs": [
    {
     "data": {
      "text/json": [
       "{\n",
       "  \"MEMBER, HOUSE OF REPRESENTATIVES\": {\n",
       "    \"candidates\": [\n",
       "      \"1. ALANO, YUSOP (PFP)\",\n",
       "      \"2. BUD, HANIE (LP)\"\n",
       "    ],\n",
       "    \"header\": \"MEMBER, HOUSE OF REPRESENTATIVES / Vote for 1 ﺐﻴﺗﺎﺘﻨﻴﺴﻳﺮﻔﻳﺭ ﻑﻭﺀ ﺱﻭﺀﺎﺣ,ﺮﻴﺒﻤﻴﻣ / 1 ﺭﻮﻓ ﺕﻮﺑ (Bumoto ng hindi hihigit sa 1)\",\n",
       "    \"voteFor\": 1,\n",
       "    \"count\": 2\n",
       "  },\n",
       "  \"PROVINCIAL GOVERNOR\": {\n",
       "    \"candidates\": [\n",
       "      \"1. HATAMAN, MUJIV (BUP)\",\n",
       "      \"2. MUTAMAD, OSAMA (PDR)\",\n",
       "      \"3. SALLIMAN, JAY HATAMAN (PFP)\"\n",
       "    ],\n",
       "    \"header\": \"PROVINCIAL GOVERNOR / Vote for 1 ﺭﻮﻧﺮﻴﺑﻮﻏ ﻝﺎﻴﺴﻨﻴﺑﺍﺮﻓ / 1 ﺭﻮﻓ ﺕﻮﺑ (Bumoto ng hindi hihigit sa 1)\",\n",
       "    \"voteFor\": 1,\n",
       "    \"count\": 3\n",
       "  },\n",
       "  \"PROVINCIAL VICE-GOVERNOR\": {\n",
       "    \"candidates\": [\n",
       "      \"1. HATAMAN SALLIMAN, JIM (PFP)\",\n",
       "      \"2. SATTAR, ALZAD (BUP)\"\n",
       "    ],\n",
       "    \"header\": \"PROVINCIAL VICE-GOVERNOR / Vote for 1 ﺭﻮﻧﺮﻴﺑﻮﻏ - ﺲﻳﺎﺑ ﻝﺎﻴﺴﻨﻴﺑﺍﺮﻓ / 1 ﺭﻮﻓ ﺕﻮﺑ (Bumoto ng hindi hihigit sa 1)\",\n",
       "    \"voteFor\": 1,\n",
       "    \"count\": 2\n",
       "  },\n",
       "  \"MEMBER, SANGGUNIANG PANLALAWIGAN\": {\n",
       "    \"candidates\": [\n",
       "      \"1. AKBAR, NUR-IN (LAKAS)\",\n",
       "      \"2. ASARUL, MIKO (PFP)\",\n",
       "      \"3. DINIL, JAMES (PDPLBN)\",\n",
       "      \"4. HANTIAN, RONIE (BUP)\",\n",
       "      \"5. HATAMAN, JUHAN (IND)\",\n",
       "      \"6. HATAMAN, MARWAN (PFP)\",\n",
       "      \"7. HATAMAN, NAJIB (BUP)\",\n",
       "      \"8. IDRIS, KASIM (IND)\",\n",
       "      \"9. ISTARUL, NUR-KHAN (PFP)\",\n",
       "      \"10. JALIL, SHING (PDPLBN)\",\n",
       "      \"11. SAKKALAHUL, KEEMHAR JAY (PFP)\"\n",
       "    ],\n",
       "    \"header\": \"MEMBER, SANGGUNIANG PANLALAWIGAN / Vote for 6 ﻥﺎﻐﻳﻭﻻﻼﻧﺎﻓ ﻥﺎﻴﻧﻮﻐﻐﻧﺎﺳ,ﺮﻴﺒﻤﻴﻣ / 6 ﺭﻮﻓ ﺕﻮﺑ (Bumoto ng hindi hihigit sa 6)\",\n",
       "    \"voteFor\": 6,\n",
       "    \"count\": 11\n",
       "  },\n",
       "  \"MAYOR\": {\n",
       "    \"candidates\": [\n",
       "      \"1. SALI, ALIH (UBJP)\"\n",
       "    ],\n",
       "    \"header\": \"MAYOR / Vote for 1 ﺭﻮﻴﻣ / 1 ﺭﻮﻓ ﺕﻮﺑ (Bumoto ng hindi hihigit sa 1)\",\n",
       "    \"voteFor\": 1,\n",
       "    \"count\": 1\n",
       "  },\n",
       "  \"VICE-MAYOR\": {\n",
       "    \"candidates\": [\n",
       "      \"1. SALI, RAIZA (PFP)\"\n",
       "    ],\n",
       "    \"header\": \"VICE-MAYOR / Vote for 1 ﺭﻮﻴﻣ - ﺲﻳﺎﺑ / 1 ﺭﻮﻓ ﺕﻮﺑ (Bumoto ng hindi hihigit sa 1)\",\n",
       "    \"voteFor\": 1,\n",
       "    \"count\": 1\n",
       "  },\n",
       "  \"MEMBER, SANGGUNIANG BAYAN\": {\n",
       "    \"candidates\": [\n",
       "      \"1. AMIN, HAJARA (PFP)\",\n",
       "      \"2. ANTIH, BASIT (PFP)\",\n",
       "      \"3. IBNO, MUKARMA (UBJP)\",\n",
       "      \"4. JAHADDIN, BASSAL (UBJP)\",\n",
       "      \"5. MOMBO, KADAPI (UBJP)\",\n",
       "      \"6. MUSLIMIN, UBAIDIE (UBJP)\",\n",
       "      \"7. SALI, TIMHAR (PFP)\",\n",
       "      \"8. SANAN, WAHAB (PFP)\"\n",
       "    ],\n",
       "    \"header\": \"MEMBER, SANGGUNIANG BAYAN / Vote for 8 ﻥﺎﻳﺎﺑ ﻥﺎﻴﻧﻮﻐﻐﻧﺎﺳ,ﺮﻴﺒﻤﻴﻣ / 8 ﺭﻮﻓ ﺕﻮﺑ (Bumoto ng hindi hihigit sa 8)\",\n",
       "    \"voteFor\": 8,\n",
       "    \"count\": 8\n",
       "  },\n",
       "  \"BARMM PARTY REPRESENTATIVES\": {\n",
       "    \"candidates\": [\n",
       "      \"1. BAPA\",\n",
       "      \"2. BGC\",\n",
       "      \"3. MAHARDIKA\",\n",
       "      \"4. MORO AKO\",\n",
       "      \"5. PRO BANGSAMORO PARTY\",\n",
       "      \"6. RAAYAT DEMOCRATIC PARTY\",\n",
       "      \"7. UBJP\"\n",
       "    ],\n",
       "    \"header\": \"BARMM PARTY REPRESENTATIVES / Vote for 1 ﺐﺗﺎﺘﻨﻴﺷﺮﻓﺭ ﻲﺗﺮﻓ ﻢﻣﺭﺎﺑ / 1 ﺭﻮﻓ ﺕﻮﺑ (Bumoto ng hindi hihigit sa 1)\",\n",
       "    \"voteFor\": 1,\n",
       "    \"count\": 7\n",
       "  },\n",
       "  \"BARMM MEMBERS OF THE PARLIAMENT\": {\n",
       "    \"candidates\": [\n",
       "      \"1. BAISARA, MARVIN (ITIHAD)\",\n",
       "      \"2. CUTAL, ABUBAKAR (BAPA)\",\n",
       "      \"3. HASSAN, RIMA (IND)\",\n",
       "      \"4. SALI, PAI (UBJP)\"\n",
       "    ],\n",
       "    \"header\": \"BARMM MEMBERS OF THE PARLIAMENT / Vote for 1 ﺖﻨﻴﻤﻴﻟﺭﺎﻓ ﺩ ﻑﻭﺃ ﺵﺮﻴﺒﻤﻴﻣ ﻢﻣﺭﺎﺑ / 1 ﺭﻮﻓ ﺕﻮﺑ (Bumoto ng hindi hihigit sa 1)\",\n",
       "    \"voteFor\": 1,\n",
       "    \"count\": 4\n",
       "  }\n",
       "}"
      ]
     },
     "metadata": {},
     "output_type": "display_data"
    }
   ],
   "source": [
    "let akbar = extractCandidatesWithSanityChecks(akbarRaw)\n",
    "await Deno.jupyter.display(\n",
    "  { 'text/json': JSON.stringify(akbar, null, 2) },\n",
    "  { raw: true }\n",
    ")"
   ]
  },
  {
   "cell_type": "markdown",
   "metadata": {},
   "source": [
    "Time to run it for all files."
   ]
  },
  {
   "cell_type": "code",
   "execution_count": 115,
   "metadata": {},
   "outputs": [
    {
     "name": "stdout",
     "output_type": "stream",
     "text": [
      "10% complete\n",
      "20% complete\n",
      "30% complete\n",
      "40% complete\n",
      "50% complete\n",
      "60% complete\n",
      "70% complete\n",
      "80% complete\n",
      "90% complete\n",
      "100% complete\n"
     ]
    },
    {
     "data": {
      "text/plain": [
       "\u001b[33m100\u001b[39m"
      ]
     },
     "execution_count": 115,
     "metadata": {},
     "output_type": "execute_result"
    }
   ],
   "source": [
    "const markdownFiles = fs.readdirSync(\"./md\")\n",
    "let prevPercent = 0.0\n",
    "\n",
    "for (const [index, markdownFile] of markdownFiles.entries()) {\n",
    "  let markdownString = fs.readFileSync(`./md/${markdownFile}`, 'utf8')\n",
    "  let cityMuniName = path.parse(markdownFile).name\n",
    "  let cityMuni = \"\"\n",
    "\n",
    "  try {\n",
    "    cityMuni = extractCandidatesWithSanityChecks(markdownString)\n",
    "  } catch (e) {\n",
    "    console.error(\"Error at: \", cityMuniName, e);\n",
    "  }\n",
    "  \n",
    "  if (cityMuni === \"\") throw new Error(\"Failed to read \", cityMuniName)\n",
    "\n",
    "  fs.writeFileSync(`./json/${cityMuniName}.json`, JSON.stringify(cityMuni))\n",
    "\n",
    "  let percent = ((index + 1) / markdownFiles.length) * 100.0\n",
    "  if (Math.floor(prevPercent / 10.0) < Math.floor(percent / 10.0)) {\n",
    "    console.log(`${Math.round(percent)}% complete`)\n",
    "    prevPercent = percent\n",
    "  }\n",
    "}"
   ]
  },
  {
   "cell_type": "markdown",
   "metadata": {},
   "source": [
    "## Aggregate Stats \n",
    "\n",
    "With everything parsed, we now get the total number of candidates, the positions to elect them in, and if there are any discrepancies."
   ]
  },
  {
   "cell_type": "code",
   "execution_count": 137,
   "metadata": {},
   "outputs": [
    {
     "name": "stdout",
     "output_type": "stream",
     "text": [
      "10% complete\n"
     ]
    },
    {
     "name": "stdout",
     "output_type": "stream",
     "text": [
      "20% complete\n",
      "30% complete\n",
      "40% complete\n",
      "50% complete\n",
      "60% complete\n",
      "70% complete\n",
      "80% complete\n",
      "90% complete\n",
      "100% complete\n"
     ]
    },
    {
     "data": {
      "application/vnd.dataresource+json": {
       "data": [
        {
         "count": 66,
         "position": "SENATOR",
         "voteFor": 12
        },
        {
         "count": 155,
         "position": "PARTY LIST",
         "voteFor": 1
        },
        {
         "count": 3931,
         "position": "MEMBER, HOUSE OF REPRESENTATIVES",
         "voteFor": 1
        },
        {
         "count": 4571,
         "position": "PROVINCIAL GOVERNOR",
         "voteFor": 1
        },
        {
         "count": 3903,
         "position": "PROVINCIAL VICE-GOVERNOR",
         "voteFor": 1
        },
        {
         "count": 12336,
         "position": "MEMBER, SANGGUNIANG PANLALAWIGAN",
         "voteFor": 5
        },
        {
         "count": 3951,
         "position": "MAYOR",
         "voteFor": 1
        },
        {
         "count": 3622,
         "position": "VICE-MAYOR",
         "voteFor": 1
        },
        {
         "count": 27427,
         "position": "MEMBER, SANGGUNIANG BAYAN",
         "voteFor": 8
        },
        {
         "count": 763,
         "position": "BARMM PARTY REPRESENTATIVES",
         "voteFor": 1
        },
        {
         "count": 470,
         "position": "BARMM MEMBERS OF THE PARLIAMENT",
         "voteFor": 1
        },
        {
         "count": 3978,
         "position": "MEMBER, SANGGUNIANG PANLUNGSOD",
         "voteFor": 10
        }
       ],
       "schema": {
        "fields": [
         {
          "name": "position",
          "type": "string"
         },
         {
          "name": "voteFor",
          "type": "number"
         },
         {
          "name": "count",
          "type": "number"
         }
        ]
       }
      },
      "text/html": [
       "<table><thead><tr><th>position</th><th>voteFor</th><th>count</th></tr></thead><tbody><tr><td>SENATOR</td><td>12</td><td>66</td></tr><tr><td>PARTY LIST</td><td>1</td><td>155</td></tr><tr><td>MEMBER, HOUSE OF REPRESENTATIVES</td><td>1</td><td>3931</td></tr><tr><td>PROVINCIAL GOVERNOR</td><td>1</td><td>4571</td></tr><tr><td>PROVINCIAL VICE-GOVERNOR</td><td>1</td><td>3903</td></tr><tr><td>MEMBER, SANGGUNIANG PANLALAWIGAN</td><td>5</td><td>12336</td></tr><tr><td>MAYOR</td><td>1</td><td>3951</td></tr><tr><td>VICE-MAYOR</td><td>1</td><td>3622</td></tr><tr><td>MEMBER, SANGGUNIANG BAYAN</td><td>8</td><td>27427</td></tr><tr><td>BARMM PARTY REPRESENTATIVES</td><td>1</td><td>763</td></tr><tr><td>BARMM MEMBERS OF THE PARLIAMENT</td><td>1</td><td>470</td></tr><tr><td>MEMBER, SANGGUNIANG PANLUNGSOD</td><td>10</td><td>3978</td></tr></tbody></table>"
      ]
     },
     "execution_count": 137,
     "metadata": {},
     "output_type": "execute_result"
    }
   ],
   "source": [
    "import { display } from 'https://deno.land/x/display/mod.ts'\n",
    "import * as pl from 'npm:nodejs-polars'\n",
    "\n",
    "const jsonFiles = fs.readdirSync('./json')\n",
    "let prevPercent = 0.0\n",
    "\n",
    "let candidateTally = {}\n",
    "\n",
    "for (const position of Object.keys(national)) {\n",
    "  candidateTally[position] = {\n",
    "    voteFor: national[position].voteFor || 0,\n",
    "    count: national[position].count || 0,\n",
    "  }\n",
    "}\n",
    "\n",
    "for (const [index, jsonFile] of jsonFiles.entries()) {\n",
    "  let jsonString = fs.readFileSync(`./json/${jsonFile}`, 'utf8')\n",
    "  // let cityMuniName = path.parse(jsonFile).name\n",
    "  let cityMuni = JSON.parse(jsonString)\n",
    "\n",
    "  for (const position of Object.keys(cityMuni)) {\n",
    "    candidateTally[position] = {\n",
    "      voteFor:\n",
    "        (cityMuni[position]?.voteFor ?? 0),\n",
    "      count: (candidateTally[position]?.count ?? 0) + cityMuni[position].count ?? 0,\n",
    "    }\n",
    "  }\n",
    "\n",
    "  let percent = ((index + 1) / markdownFiles.length) * 100.0\n",
    "  if (Math.floor(prevPercent / 10.0) < Math.floor(percent / 10.0)) {\n",
    "    console.log(`${Math.round(percent)}% complete`)\n",
    "    prevPercent = percent\n",
    "  }\n",
    "}\n",
    "\n",
    "let dataFrameObj = {\n",
    "  position: [],\n",
    "  voteFor: [],\n",
    "  count: [],\n",
    "}\n",
    "\n",
    "for (const position of Object.keys(candidateTally)) {\n",
    "  dataFrameObj.position.push(position)\n",
    "  dataFrameObj.voteFor.push(candidateTally[position].voteFor)\n",
    "  dataFrameObj.count.push(candidateTally[position].count)\n",
    "}\n",
    "\n",
    "let dataFrame = new pl.DataFrame(dataFrameObj)\n",
    "\n",
    "dataFrame\n"
   ]
  },
  {
   "cell_type": "code",
   "execution_count": 132,
   "metadata": {},
   "outputs": [
    {
     "data": {
      "application/vnd.dataresource+json": {
       "data": [
        {
         "comparability": 0,
         "fruit": "Apples"
        },
        {
         "comparability": 1,
         "fruit": "Oranges"
        }
       ],
       "schema": {
        "fields": [
         {
          "name": "fruit",
          "type": "string"
         },
         {
          "name": "comparability",
          "type": "number"
         }
        ]
       }
      },
      "text/html": [
       "<table><thead><tr><th>fruit</th><th>comparability</th></tr></thead><tbody><tr><td>Apples</td><td>0</td></tr><tr><td>Oranges</td><td>1</td></tr></tbody></table>"
      ]
     },
     "metadata": {},
     "output_type": "display_data"
    }
   ],
   "source": []
  },
  {
   "cell_type": "code",
   "execution_count": null,
   "metadata": {},
   "outputs": [],
   "source": []
  }
 ],
 "metadata": {
  "kernelspec": {
   "display_name": "Deno",
   "language": "typescript",
   "name": "deno"
  },
  "language_info": {
   "codemirror_mode": "typescript",
   "file_extension": ".ts",
   "mimetype": "text/x.typescript",
   "name": "typescript",
   "nbconvert_exporter": "script",
   "pygments_lexer": "typescript",
   "version": "5.6.2"
  }
 },
 "nbformat": 4,
 "nbformat_minor": 2
}
