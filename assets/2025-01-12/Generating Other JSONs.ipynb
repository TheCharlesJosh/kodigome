{
 "cells": [
  {
   "cell_type": "markdown",
   "metadata": {},
   "source": [
    "## Generating other JSONs\n",
    "\n",
    "There are other files that I have yet to generate. Let's use what we have now to generate them.\n",
    "- `provincesCitiesMunicipalities.json` (previously `userMap.json`)\n",
    "- `betterPositionMap.json` needs to be created manually, but I think this can be done when we aggregate all headers/voteFors."
   ]
  },
  {
   "cell_type": "code",
   "execution_count": 14,
   "metadata": {},
   "outputs": [],
   "source": [
    "import fs from 'node:fs'"
   ]
  },
  {
   "cell_type": "code",
   "execution_count": 16,
   "metadata": {},
   "outputs": [],
   "source": [
    "{\n",
    "  const localMappingFile = fs.readFileSync('./localMapping.json', 'utf8')\n",
    "  const localMapping = JSON.parse(localMappingFile)\n",
    "  const provincesCitiesMunicipalities = localMapping.reduce((provincesCitiesMunicipalitiesObj, { province, cityMunicipality }) => {\n",
    "    const newProvincesCitiesMunicipalitiesObj = { ...provincesCitiesMunicipalitiesObj }\n",
    "    newProvincesCitiesMunicipalitiesObj[province] = {\n",
    "      province,\n",
    "      citiesMunicipalities: newProvincesCitiesMunicipalitiesObj[\n",
    "        province\n",
    "      ]?.citiesMunicipalities && Array.isArray(\n",
    "        newProvincesCitiesMunicipalitiesObj[province]?.citiesMunicipalities\n",
    "      )\n",
    "        ? newProvincesCitiesMunicipalitiesObj[province].citiesMunicipalities.concat([cityMunicipality]).sort()\n",
    "        : [cityMunicipality],\n",
    "    }\n",
    "    return newProvincesCitiesMunicipalitiesObj\n",
    "  }, {})\n",
    "\n",
    "  fs.writeFileSync('./provincesCitiesMunicipalities.json', JSON.stringify(Object.values(provincesCitiesMunicipalities)))\n",
    "}"
   ]
  },
  {
   "cell_type": "code",
   "execution_count": null,
   "metadata": {},
   "outputs": [],
   "source": []
  }
 ],
 "metadata": {
  "kernelspec": {
   "display_name": "Deno",
   "language": "typescript",
   "name": "deno"
  },
  "language_info": {
   "codemirror_mode": "typescript",
   "file_extension": ".ts",
   "mimetype": "text/x.typescript",
   "name": "typescript",
   "nbconvert_exporter": "script",
   "pygments_lexer": "typescript",
   "version": "5.6.2"
  }
 },
 "nbformat": 4,
 "nbformat_minor": 2
}
